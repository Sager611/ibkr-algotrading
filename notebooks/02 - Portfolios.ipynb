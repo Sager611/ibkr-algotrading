{
 "cells": [
  {
   "cell_type": "markdown",
   "id": "continued-madrid",
   "metadata": {},
   "source": [
    "# 02 - Portfolios\n",
    "\n",
    "In this notebook you can find simple examples that showcase how to programatically create portfolios."
   ]
  },
  {
   "cell_type": "code",
   "execution_count": 1,
   "id": "silent-surface",
   "metadata": {},
   "outputs": [
    {
     "name": "stdout",
     "output_type": "stream",
     "text": [
      "Requirement already satisfied: seaborn in /home/saheru/Documents/Programming/Finance/IBKR/ibeam/env/lib/python3.9/site-packages (0.11.1)\n",
      "Requirement already satisfied: scipy>=1.0 in /home/saheru/Documents/Programming/Finance/IBKR/ibeam/env/lib/python3.9/site-packages (from seaborn) (1.7.1)\n",
      "Requirement already satisfied: matplotlib>=2.2 in /home/saheru/Documents/Programming/Finance/IBKR/ibeam/env/lib/python3.9/site-packages (from seaborn) (3.4.3)\n",
      "Requirement already satisfied: pandas>=0.23 in /home/saheru/Documents/Programming/Finance/IBKR/ibeam/env/lib/python3.9/site-packages (from seaborn) (1.3.1)\n",
      "Requirement already satisfied: numpy>=1.15 in /home/saheru/Documents/Programming/Finance/IBKR/ibeam/env/lib/python3.9/site-packages (from seaborn) (1.21.1)\n",
      "Requirement already satisfied: kiwisolver>=1.0.1 in /home/saheru/Documents/Programming/Finance/IBKR/ibeam/env/lib/python3.9/site-packages (from matplotlib>=2.2->seaborn) (1.3.1)\n",
      "Requirement already satisfied: python-dateutil>=2.7 in /home/saheru/Documents/Programming/Finance/IBKR/ibeam/env/lib/python3.9/site-packages (from matplotlib>=2.2->seaborn) (2.8.2)\n",
      "Requirement already satisfied: cycler>=0.10 in /home/saheru/Documents/Programming/Finance/IBKR/ibeam/env/lib/python3.9/site-packages (from matplotlib>=2.2->seaborn) (0.10.0)\n",
      "Requirement already satisfied: pillow>=6.2.0 in /home/saheru/Documents/Programming/Finance/IBKR/ibeam/env/lib/python3.9/site-packages (from matplotlib>=2.2->seaborn) (8.3.1)\n",
      "Requirement already satisfied: pyparsing>=2.2.1 in /home/saheru/Documents/Programming/Finance/IBKR/ibeam/env/lib/python3.9/site-packages (from matplotlib>=2.2->seaborn) (2.4.7)\n",
      "Requirement already satisfied: pytz>=2017.3 in /home/saheru/Documents/Programming/Finance/IBKR/ibeam/env/lib/python3.9/site-packages (from pandas>=0.23->seaborn) (2021.1)\n",
      "Requirement already satisfied: six>=1.5 in /home/saheru/Documents/Programming/Finance/IBKR/ibeam/env/lib/python3.9/site-packages (from python-dateutil>=2.7->matplotlib>=2.2->seaborn) (1.16.0)\n",
      "\u001b[33mWARNING: You are using pip version 20.2.3; however, version 21.2.4 is available.\n",
      "You should consider upgrading via the '/home/saheru/Documents/Programming/Finance/IBKR/ibeam/env/bin/python3 -m pip install --upgrade pip' command.\u001b[0m\n",
      "Note: you may need to restart the kernel to use updated packages.\n"
     ]
    }
   ],
   "source": [
    "import sys\n",
    "sys.path.insert(0, '../')\n",
    "%reload_ext autoreload\n",
    "%autoreload 2\n",
    "%pip install seaborn"
   ]
  },
  {
   "cell_type": "markdown",
   "id": "indirect-sailing",
   "metadata": {},
   "source": [
    "## Start server\n",
    "\n",
    "The `Server` class is the interface to perform HTTPS requests to acquire data regarding instruments, like stocks."
   ]
  },
  {
   "cell_type": "code",
   "execution_count": 2,
   "id": "convinced-behalf",
   "metadata": {},
   "outputs": [],
   "source": [
    "import time\n",
    "import logging\n",
    "\n",
    "import numpy as np\n",
    "import seaborn as sns\n",
    "from matplotlib import pyplot as plt\n",
    "\n",
    "from modules.server import Server\n",
    "from modules.instruments import Portfolio"
   ]
  },
  {
   "cell_type": "code",
   "execution_count": 3,
   "id": "permanent-habitat",
   "metadata": {},
   "outputs": [],
   "source": [
    "srv = Server()\n",
    "srv.start()\n",
    "\n",
    "# the following silences the logging output\n",
    "logging.getLogger('ibkr-algotrading').setLevel(logging.ERROR)"
   ]
  },
  {
   "cell_type": "markdown",
   "id": "statistical-context",
   "metadata": {},
   "source": [
    "Once started, we can request information on any stock we want simply by accesing items in `srv`. These will be cached, so only the first access will have significant delay.\n",
    "\n",
    "First, it is a good idea to know which is our balance,"
   ]
  },
  {
   "cell_type": "code",
   "execution_count": 4,
   "id": "continental-linux",
   "metadata": {},
   "outputs": [
    {
     "data": {
      "text/plain": [
       "(1000000.0, 'USD')"
      ]
     },
     "execution_count": 4,
     "metadata": {},
     "output_type": "execute_result"
    }
   ],
   "source": [
    "srv.balance"
   ]
  },
  {
   "cell_type": "markdown",
   "id": "grand-person",
   "metadata": {},
   "source": [
    "> NOTE: with a simulated IBKR Paper Account you start with 1'000'000 USD, which you can use to test out trading."
   ]
  },
  {
   "cell_type": "markdown",
   "id": "clinical-ideal",
   "metadata": {},
   "source": [
    "## Create Portfolio\n",
    "\n",
    "we can now request some stocks and create a portfolio with them,"
   ]
  },
  {
   "cell_type": "code",
   "execution_count": 5,
   "id": "rising-sixth",
   "metadata": {},
   "outputs": [],
   "source": [
    "stocks = srv[['SPY', 'XOM', 'MSFT', 'AAPL', 'TSLA'], '1y', '1d']\n",
    "\n",
    "portfolio = Portfolio(wealth=100, stocks=stocks)"
   ]
  },
  {
   "cell_type": "markdown",
   "id": "lesser-strand",
   "metadata": {},
   "source": [
    "The `wealth` argument is in the same currency as our account's balance.\n",
    "\n",
    "We can now check how much fraction of stock is allocated for each of the stocks.\n",
    "\n",
    "Of course, right now we haven't bought any stock so it's all zero,"
   ]
  },
  {
   "cell_type": "code",
   "execution_count": 6,
   "id": "loaded-crowd",
   "metadata": {},
   "outputs": [
    {
     "data": {
      "text/plain": [
       "array([0., 0., 0., 0., 0.])"
      ]
     },
     "execution_count": 6,
     "metadata": {},
     "output_type": "execute_result"
    }
   ],
   "source": [
    "portfolio.alloc"
   ]
  },
  {
   "cell_type": "markdown",
   "id": "everyday-appearance",
   "metadata": {},
   "source": [
    "Similarly, our distribution of wealth accross the stocks looks like an all-zero array, and\n",
    "this is the only time it will be like so before we perform our first order.\n",
    "\n",
    "In any other case the \"weights\" will sum up to 1."
   ]
  },
  {
   "cell_type": "code",
   "execution_count": 7,
   "id": "inclusive-offense",
   "metadata": {},
   "outputs": [
    {
     "data": {
      "text/plain": [
       "array([0., 0., 0., 0., 0.])"
      ]
     },
     "execution_count": 7,
     "metadata": {},
     "output_type": "execute_result"
    }
   ],
   "source": [
    "portfolio.weights"
   ]
  },
  {
   "cell_type": "markdown",
   "id": "median-robin",
   "metadata": {},
   "source": [
    "we finally add the portfolio to the server so it knows about its existance,"
   ]
  },
  {
   "cell_type": "code",
   "execution_count": 8,
   "id": "refined-diesel",
   "metadata": {},
   "outputs": [],
   "source": [
    "srv.add_portfolio(portfolio)"
   ]
  },
  {
   "cell_type": "markdown",
   "id": "supported-bible",
   "metadata": {},
   "source": [
    "## Place an order on our portfolio\n",
    "\n",
    "To prevent accidentally losing all of our money, we will trade under a simulated context in which orders are only previewed but we still get whole information on what would happen,"
   ]
  },
  {
   "cell_type": "code",
   "execution_count": 9,
   "id": "informational-reconstruction",
   "metadata": {},
   "outputs": [
    {
     "name": "stdout",
     "output_type": "stream",
     "text": [
      "1st order\n",
      "Portfolio wealth:  99.04165200000001\n",
      "Wealth + commission:  100.0\n",
      "2nd order\n",
      "Portfolio wealth:  98.04990300000001\n",
      "Wealth + commission:  100.0\n",
      "Portfolio orders:\n",
      "                            SPY  XOM  MSFT  AAPL  TSLA\n",
      "2021-08-29 20:07:00.345476  0.2  0.2   0.2   0.2   0.2\n",
      "2021-08-29 20:07:03.587626  1.0  0.0   0.0   0.0   0.0\n"
     ]
    }
   ],
   "source": [
    "# distribute the portfolio equally accross stocks\n",
    "weights = np.ones(5) / 5.0\n",
    "\n",
    "with srv.simulated():\n",
    "    # 1st order\n",
    "    print('1st order')\n",
    "    portfolio.order(weights)\n",
    "\n",
    "    # the wealth of the portfolio decreases since the\n",
    "    # transactions take a commission\n",
    "    print('Portfolio wealth: ', portfolio.wealth)\n",
    "    print('Wealth + commission: ', portfolio.wealth + portfolio.commission)\n",
    "\n",
    "    # 2nd order\n",
    "    # we will put all our money on SPY\n",
    "    weights[0] = 1.0\n",
    "    weights[1:] = 0.0\n",
    "    print('2nd order')\n",
    "    portfolio.order(weights)\n",
    "\n",
    "    print('Portfolio wealth: ', portfolio.wealth)\n",
    "    print('Wealth + commission: ', portfolio.wealth + portfolio.commission)\n",
    "    \n",
    "    # we can also list all orders that have happened on this portfolio.\n",
    "    # the stored values are the weights, or distribution of wealth\n",
    "    # accross the stocks. So, 0.2 on SPY means 20% of the portfolio's\n",
    "    # wealth is in the form of SPY's shares at that given time.\n",
    "    print('Portfolio orders:')\n",
    "    print(portfolio.orders)"
   ]
  },
  {
   "cell_type": "markdown",
   "id": "a06ae0c7-1233-46cd-a6c4-f6de334a5090",
   "metadata": {},
   "source": [
    "Note that after we exit the simulated context, the whole state of the server will be restored, meaning all orders in the\n",
    "portfolio will disappear and it will return to its previous state."
   ]
  },
  {
   "cell_type": "code",
   "execution_count": 10,
   "id": "700a6fc7-664f-4120-b150-6d8b60ca6c91",
   "metadata": {},
   "outputs": [
    {
     "name": "stdout",
     "output_type": "stream",
     "text": [
      "Portfolio orders:\n",
      "Empty DataFrame\n",
      "Columns: []\n",
      "Index: []\n"
     ]
    }
   ],
   "source": [
    "# after exiting the simulation, the portfolio does not have any orders\n",
    "print('Portfolio orders:')\n",
    "print(portfolio.orders)"
   ]
  }
 ],
 "metadata": {
  "kernelspec": {
   "display_name": "Python 3",
   "language": "python",
   "name": "python3"
  },
  "language_info": {
   "codemirror_mode": {
    "name": "ipython",
    "version": 3
   },
   "file_extension": ".py",
   "mimetype": "text/x-python",
   "name": "python",
   "nbconvert_exporter": "python",
   "pygments_lexer": "ipython3",
   "version": "3.9.3"
  }
 },
 "nbformat": 4,
 "nbformat_minor": 5
}
