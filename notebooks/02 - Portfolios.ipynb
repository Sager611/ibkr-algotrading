{
 "cells": [
  {
   "cell_type": "markdown",
   "id": "working-orientation",
   "metadata": {},
   "source": [
    "# 02 - Portfolios\n",
    "\n",
    "In this notebook you can find simple examples that showcase how to programatically create portfolios."
   ]
  },
  {
   "cell_type": "code",
   "execution_count": 2,
   "id": "coastal-gateway",
   "metadata": {},
   "outputs": [
    {
     "name": "stdout",
     "output_type": "stream",
     "text": [
      "Defaulting to user installation because normal site-packages is not writeable\n",
      "Requirement already satisfied: seaborn in /home/saheru/.local/lib/python3.9/site-packages (0.11.1)\n",
      "Requirement already satisfied: numpy>=1.15 in /usr/lib/python3.9/site-packages (from seaborn) (1.20.1)\n",
      "Requirement already satisfied: matplotlib>=2.2 in /usr/lib/python3.9/site-packages (from seaborn) (3.4.1)\n",
      "Requirement already satisfied: pandas>=0.23 in /home/saheru/.local/lib/python3.9/site-packages (from seaborn) (1.2.3)\n",
      "Requirement already satisfied: scipy>=1.0 in /home/saheru/.local/lib/python3.9/site-packages (from seaborn) (1.6.3)\n",
      "Requirement already satisfied: cycler>=0.10 in /usr/lib/python3.9/site-packages (from matplotlib>=2.2->seaborn) (0.10.0)\n",
      "Requirement already satisfied: kiwisolver>=1.0.1 in /usr/lib/python3.9/site-packages (from matplotlib>=2.2->seaborn) (1.3.1)\n",
      "Requirement already satisfied: pillow>=6.2.0 in /home/saheru/.local/lib/python3.9/site-packages (from matplotlib>=2.2->seaborn) (8.2.0)\n",
      "Requirement already satisfied: pyparsing>=2.2.1 in /usr/lib/python3.9/site-packages (from matplotlib>=2.2->seaborn) (2.4.7)\n",
      "Requirement already satisfied: python-dateutil>=2.7 in /usr/lib/python3.9/site-packages (from matplotlib>=2.2->seaborn) (2.8.1)\n",
      "Requirement already satisfied: six in /usr/lib/python3.9/site-packages (from cycler>=0.10->matplotlib>=2.2->seaborn) (1.15.0)\n",
      "Requirement already satisfied: pytz>=2017.3 in /home/saheru/.local/lib/python3.9/site-packages (from pandas>=0.23->seaborn) (2021.1)\n",
      "\u001b[33mWARNING: You are using pip version 21.0.1; however, version 21.2.4 is available.\n",
      "You should consider upgrading via the '/usr/bin/python3 -m pip install --upgrade pip' command.\u001b[0m\n",
      "Note: you may need to restart the kernel to use updated packages.\n"
     ]
    }
   ],
   "source": [
    "import sys\n",
    "sys.path.insert(0, '../')\n",
    "%reload_ext autoreload\n",
    "%autoreload 2\n",
    "%pip install seaborn"
   ]
  },
  {
   "cell_type": "markdown",
   "id": "black-moore",
   "metadata": {},
   "source": [
    "## Start server\n",
    "\n",
    "The `Server` class is the interface to perform HTTPS requests to acquire data regarding instruments, like stocks."
   ]
  },
  {
   "cell_type": "code",
   "execution_count": 11,
   "id": "simple-cholesterol",
   "metadata": {},
   "outputs": [],
   "source": [
    "import time\n",
    "import logging\n",
    "\n",
    "import numpy as np\n",
    "import seaborn as sns\n",
    "from matplotlib import pyplot as plt\n",
    "\n",
    "from modules.server import Server\n",
    "from modules.instruments import Portfolio"
   ]
  },
  {
   "cell_type": "code",
   "execution_count": 4,
   "id": "automatic-leather",
   "metadata": {},
   "outputs": [],
   "source": [
    "srv = Server()\n",
    "srv.start()\n",
    "\n",
    "# you can optionally silence the logging output uncommenting the following\n",
    "# logging.getLogger('ibkr-algotrading').setLevel(logging.WARN)"
   ]
  },
  {
   "cell_type": "markdown",
   "id": "italian-discussion",
   "metadata": {},
   "source": [
    "Once started, we can request information on any stock we want simply by accesing items in `srv`. These will be cached, so only the first access will have significant delay.\n",
    "\n",
    "First, it is a good idea to know which is our balance,"
   ]
  },
  {
   "cell_type": "code",
   "execution_count": 5,
   "id": "chubby-reggae",
   "metadata": {},
   "outputs": [
    {
     "data": {
      "text/plain": [
       "(1000000.0, 'USD')"
      ]
     },
     "execution_count": 5,
     "metadata": {},
     "output_type": "execute_result"
    }
   ],
   "source": [
    "srv.balance"
   ]
  },
  {
   "cell_type": "markdown",
   "id": "australian-xerox",
   "metadata": {},
   "source": [
    "> NOTE: with a simulated IBKR Paper Account you start with 1'000'000 USD, which you can use to test out trading."
   ]
  },
  {
   "cell_type": "markdown",
   "id": "perceived-ending",
   "metadata": {},
   "source": [
    "## Create Portfolio\n",
    "\n",
    "we can now request some stocks and create a portfolio with them,"
   ]
  },
  {
   "cell_type": "code",
   "execution_count": 6,
   "id": "adverse-comparison",
   "metadata": {},
   "outputs": [
    {
     "name": "stderr",
     "output_type": "stream",
     "text": [
      "[2021-08-28 16:41:30,711] I T140420823979584 server.py:298: Started StockCache thread for bar \"1d\". \n",
      "\t\tNext data update will be in  33509.29s.\n"
     ]
    }
   ],
   "source": [
    "stocks = srv[['SPY', 'XOM', 'MSFT', 'AAPL', 'TSLA'], '1y', '1d']\n",
    "\n",
    "portfolio = Portfolio(wealth=100, stocks=stocks)"
   ]
  },
  {
   "cell_type": "markdown",
   "id": "opened-second",
   "metadata": {},
   "source": [
    "The `wealth` argument is in the same currency as our account's balance.\n",
    "\n",
    "We can now check how much fraction of stock is allocated for each of the stocks.\n",
    "\n",
    "Of course, right now we haven't bought any stock so it's all zero,"
   ]
  },
  {
   "cell_type": "code",
   "execution_count": 7,
   "id": "understanding-operator",
   "metadata": {},
   "outputs": [
    {
     "data": {
      "text/plain": [
       "array([0., 0., 0., 0., 0.])"
      ]
     },
     "execution_count": 7,
     "metadata": {},
     "output_type": "execute_result"
    }
   ],
   "source": [
    "portfolio.alloc"
   ]
  },
  {
   "cell_type": "markdown",
   "id": "administrative-cleaners",
   "metadata": {},
   "source": [
    "Similarly, our distribution of wealth accross the stocks looks like an all-zero array, and\n",
    "this is the only time it will be like so before we perform our first order.\n",
    "\n",
    "In any other case the \"weights\" will sum up to 1."
   ]
  },
  {
   "cell_type": "code",
   "execution_count": 8,
   "id": "floral-accreditation",
   "metadata": {},
   "outputs": [
    {
     "data": {
      "text/plain": [
       "array([0., 0., 0., 0., 0.])"
      ]
     },
     "execution_count": 8,
     "metadata": {},
     "output_type": "execute_result"
    }
   ],
   "source": [
    "portfolio.weights"
   ]
  },
  {
   "cell_type": "markdown",
   "id": "thermal-worcester",
   "metadata": {},
   "source": [
    "we finally add the portfolio to the server so it knows about its existance,"
   ]
  },
  {
   "cell_type": "code",
   "execution_count": 9,
   "id": "outdoor-setup",
   "metadata": {},
   "outputs": [],
   "source": [
    "srv.add_portfolio(portfolio)"
   ]
  },
  {
   "cell_type": "markdown",
   "id": "existing-apple",
   "metadata": {},
   "source": [
    "## Place an order on our portfolio\n",
    "\n",
    "To prevent accidentally losing all of our money, we will trade under a simulated context in which orders are only previewed but we still get whole information on what would happen,"
   ]
  },
  {
   "cell_type": "code",
   "execution_count": 21,
   "id": "communist-domain",
   "metadata": {},
   "outputs": [
    {
     "name": "stderr",
     "output_type": "stream",
     "text": [
      "[2021-08-28 17:32:13,927] W T140421889238848 server.py:524: ENTERING SIMULATED CONTEXT. ALL FOLLOWING TRANSACTIONS WILL BE SIMULATED.\n",
      "[2021-08-28 17:32:14,538] W T140420832372288 instruments.py:132: Provided quantity for stock \"Stock(\"SPY\", conid=756733)\" is too precise. The following amount will be lost: 2.2768245622195593e-18\n",
      "[2021-08-28 17:32:14,538] W T140420815586880 instruments.py:132: Provided quantity for stock \"Stock(\"XOM\", conid=13977)\" is too precise. The following amount will be lost: 2.031523820694714e-17\n",
      "[2021-08-28 17:32:14,540] W T140420583511616 instruments.py:132: Provided quantity for stock \"Stock(\"MSFT\", conid=272093)\" is too precise. The following amount will be lost: 2.8053731213062427e-18\n",
      "[2021-08-28 17:32:14,540] W T140420600297024 instruments.py:132: Provided quantity for stock \"Stock(\"AAPL\", conid=265598)\" is too precise. The following amount will be lost: 1.2170169386149787e-17\n",
      "[2021-08-28 17:32:14,543] W T140420591904320 instruments.py:132: Provided quantity for stock \"Stock(\"TSLA\", conid=76792991)\" is too precise. The following amount will be lost: 4.607859233063394e-19\n",
      "[2021-08-28 17:32:15,464] W T140421889238848 server.py:530: LEAVING SIMULATED CONTEXT. ALL FOLLOWING TRANSACTIONS WILL BE REAL.\n"
     ]
    },
    {
     "ename": "ValueError",
     "evalue": "total != commission + stock. total: 20.0 | commission: 0.2 | stock: 19.81",
     "output_type": "error",
     "traceback": [
      "\u001b[0;31m---------------------------------------------------------------------------\u001b[0m",
      "\u001b[0;31mValueError\u001b[0m                                Traceback (most recent call last)",
      "\u001b[0;32m<ipython-input-21-3018a3dd9eb9>\u001b[0m in \u001b[0;36m<module>\u001b[0;34m\u001b[0m\n\u001b[1;32m      2\u001b[0m \u001b[0;34m\u001b[0m\u001b[0m\n\u001b[1;32m      3\u001b[0m \u001b[0;32mwith\u001b[0m \u001b[0msrv\u001b[0m\u001b[0;34m.\u001b[0m\u001b[0msimulated\u001b[0m\u001b[0;34m(\u001b[0m\u001b[0;34m)\u001b[0m\u001b[0;34m:\u001b[0m\u001b[0;34m\u001b[0m\u001b[0;34m\u001b[0m\u001b[0m\n\u001b[0;32m----> 4\u001b[0;31m     \u001b[0mportfolio\u001b[0m\u001b[0;34m.\u001b[0m\u001b[0morder\u001b[0m\u001b[0;34m(\u001b[0m\u001b[0mweights\u001b[0m\u001b[0;34m)\u001b[0m\u001b[0;34m\u001b[0m\u001b[0;34m\u001b[0m\u001b[0m\n\u001b[0m",
      "\u001b[0;32m~/Documents/Programming/Finance/IBKR/ibeam/modules/instruments.py\u001b[0m in \u001b[0;36morder\u001b[0;34m(self, weights)\u001b[0m\n\u001b[1;32m    288\u001b[0m \u001b[0;34m\u001b[0m\u001b[0m\n\u001b[1;32m    289\u001b[0m         \u001b[0;31m# first, get an estimate for the commissions\u001b[0m\u001b[0;34m\u001b[0m\u001b[0;34m\u001b[0m\u001b[0;34m\u001b[0m\u001b[0m\n\u001b[0;32m--> 290\u001b[0;31m         \u001b[0mcommissions\u001b[0m\u001b[0;34m,\u001b[0m \u001b[0mstocks_value_\u001b[0m \u001b[0;34m=\u001b[0m \u001b[0mself\u001b[0m\u001b[0;34m.\u001b[0m\u001b[0mpreview_order\u001b[0m\u001b[0;34m(\u001b[0m\u001b[0mdiff\u001b[0m\u001b[0;34m)\u001b[0m\u001b[0;34m\u001b[0m\u001b[0;34m\u001b[0m\u001b[0m\n\u001b[0m\u001b[1;32m    291\u001b[0m         \u001b[0m_LOGGER\u001b[0m\u001b[0;34m.\u001b[0m\u001b[0minfo\u001b[0m\u001b[0;34m(\u001b[0m\u001b[0;34mf'weights: {weights} | diff: {diff} | comm: {commissions}'\u001b[0m\u001b[0;34m)\u001b[0m\u001b[0;34m\u001b[0m\u001b[0;34m\u001b[0m\u001b[0m\n\u001b[1;32m    292\u001b[0m         \u001b[0m_LOGGER\u001b[0m\u001b[0;34m.\u001b[0m\u001b[0minfo\u001b[0m\u001b[0;34m(\u001b[0m\u001b[0;34mf'stk vals: {stocks_value} | share vals: {stocks_value_}'\u001b[0m\u001b[0;34m)\u001b[0m\u001b[0;34m\u001b[0m\u001b[0;34m\u001b[0m\u001b[0m\n",
      "\u001b[0;32m~/Documents/Programming/Finance/IBKR/ibeam/modules/instruments.py\u001b[0m in \u001b[0;36mpreview_order\u001b[0;34m(self, diff)\u001b[0m\n\u001b[1;32m    333\u001b[0m             \u001b[0;31m# join threads\u001b[0m\u001b[0;34m\u001b[0m\u001b[0;34m\u001b[0m\u001b[0;34m\u001b[0m\u001b[0m\n\u001b[1;32m    334\u001b[0m             \u001b[0;32mfor\u001b[0m \u001b[0mf\u001b[0m \u001b[0;32min\u001b[0m \u001b[0mfutures\u001b[0m\u001b[0;34m:\u001b[0m\u001b[0;34m\u001b[0m\u001b[0;34m\u001b[0m\u001b[0m\n\u001b[0;32m--> 335\u001b[0;31m                 \u001b[0mc\u001b[0m\u001b[0;34m,\u001b[0m \u001b[0ms\u001b[0m \u001b[0;34m=\u001b[0m \u001b[0mf\u001b[0m\u001b[0;34m.\u001b[0m\u001b[0mresult\u001b[0m\u001b[0;34m(\u001b[0m\u001b[0;34m)\u001b[0m\u001b[0;34m\u001b[0m\u001b[0;34m\u001b[0m\u001b[0m\n\u001b[0m\u001b[1;32m    336\u001b[0m                 \u001b[0;32mif\u001b[0m \u001b[0mc\u001b[0m \u001b[0;32mis\u001b[0m \u001b[0;32mNone\u001b[0m\u001b[0;34m:\u001b[0m\u001b[0;34m\u001b[0m\u001b[0;34m\u001b[0m\u001b[0m\n\u001b[1;32m    337\u001b[0m                     \u001b[0;32mcontinue\u001b[0m\u001b[0;34m\u001b[0m\u001b[0;34m\u001b[0m\u001b[0m\n",
      "\u001b[0;32m/usr/lib/python3.9/concurrent/futures/_base.py\u001b[0m in \u001b[0;36mresult\u001b[0;34m(self, timeout)\u001b[0m\n\u001b[1;32m    443\u001b[0m                     \u001b[0;32mraise\u001b[0m \u001b[0mCancelledError\u001b[0m\u001b[0;34m(\u001b[0m\u001b[0;34m)\u001b[0m\u001b[0;34m\u001b[0m\u001b[0;34m\u001b[0m\u001b[0m\n\u001b[1;32m    444\u001b[0m                 \u001b[0;32melif\u001b[0m \u001b[0mself\u001b[0m\u001b[0;34m.\u001b[0m\u001b[0m_state\u001b[0m \u001b[0;34m==\u001b[0m \u001b[0mFINISHED\u001b[0m\u001b[0;34m:\u001b[0m\u001b[0;34m\u001b[0m\u001b[0;34m\u001b[0m\u001b[0m\n\u001b[0;32m--> 445\u001b[0;31m                     \u001b[0;32mreturn\u001b[0m \u001b[0mself\u001b[0m\u001b[0;34m.\u001b[0m\u001b[0m__get_result\u001b[0m\u001b[0;34m(\u001b[0m\u001b[0;34m)\u001b[0m\u001b[0;34m\u001b[0m\u001b[0;34m\u001b[0m\u001b[0m\n\u001b[0m\u001b[1;32m    446\u001b[0m                 \u001b[0;32melse\u001b[0m\u001b[0;34m:\u001b[0m\u001b[0;34m\u001b[0m\u001b[0;34m\u001b[0m\u001b[0m\n\u001b[1;32m    447\u001b[0m                     \u001b[0;32mraise\u001b[0m \u001b[0mTimeoutError\u001b[0m\u001b[0;34m(\u001b[0m\u001b[0;34m)\u001b[0m\u001b[0;34m\u001b[0m\u001b[0;34m\u001b[0m\u001b[0m\n",
      "\u001b[0;32m/usr/lib/python3.9/concurrent/futures/_base.py\u001b[0m in \u001b[0;36m__get_result\u001b[0;34m(self)\u001b[0m\n\u001b[1;32m    388\u001b[0m         \u001b[0;32mif\u001b[0m \u001b[0mself\u001b[0m\u001b[0;34m.\u001b[0m\u001b[0m_exception\u001b[0m\u001b[0;34m:\u001b[0m\u001b[0;34m\u001b[0m\u001b[0;34m\u001b[0m\u001b[0m\n\u001b[1;32m    389\u001b[0m             \u001b[0;32mtry\u001b[0m\u001b[0;34m:\u001b[0m\u001b[0;34m\u001b[0m\u001b[0;34m\u001b[0m\u001b[0m\n\u001b[0;32m--> 390\u001b[0;31m                 \u001b[0;32mraise\u001b[0m \u001b[0mself\u001b[0m\u001b[0;34m.\u001b[0m\u001b[0m_exception\u001b[0m\u001b[0;34m\u001b[0m\u001b[0;34m\u001b[0m\u001b[0m\n\u001b[0m\u001b[1;32m    391\u001b[0m             \u001b[0;32mfinally\u001b[0m\u001b[0;34m:\u001b[0m\u001b[0;34m\u001b[0m\u001b[0;34m\u001b[0m\u001b[0m\n\u001b[1;32m    392\u001b[0m                 \u001b[0;31m# Break a reference cycle with the exception in self._exception\u001b[0m\u001b[0;34m\u001b[0m\u001b[0;34m\u001b[0m\u001b[0;34m\u001b[0m\u001b[0m\n",
      "\u001b[0;32m/usr/lib/python3.9/concurrent/futures/thread.py\u001b[0m in \u001b[0;36mrun\u001b[0;34m(self)\u001b[0m\n\u001b[1;32m     50\u001b[0m \u001b[0;34m\u001b[0m\u001b[0m\n\u001b[1;32m     51\u001b[0m         \u001b[0;32mtry\u001b[0m\u001b[0;34m:\u001b[0m\u001b[0;34m\u001b[0m\u001b[0;34m\u001b[0m\u001b[0m\n\u001b[0;32m---> 52\u001b[0;31m             \u001b[0mresult\u001b[0m \u001b[0;34m=\u001b[0m \u001b[0mself\u001b[0m\u001b[0;34m.\u001b[0m\u001b[0mfn\u001b[0m\u001b[0;34m(\u001b[0m\u001b[0;34m*\u001b[0m\u001b[0mself\u001b[0m\u001b[0;34m.\u001b[0m\u001b[0margs\u001b[0m\u001b[0;34m,\u001b[0m \u001b[0;34m**\u001b[0m\u001b[0mself\u001b[0m\u001b[0;34m.\u001b[0m\u001b[0mkwargs\u001b[0m\u001b[0;34m)\u001b[0m\u001b[0;34m\u001b[0m\u001b[0;34m\u001b[0m\u001b[0m\n\u001b[0m\u001b[1;32m     53\u001b[0m         \u001b[0;32mexcept\u001b[0m \u001b[0mBaseException\u001b[0m \u001b[0;32mas\u001b[0m \u001b[0mexc\u001b[0m\u001b[0;34m:\u001b[0m\u001b[0;34m\u001b[0m\u001b[0;34m\u001b[0m\u001b[0m\n\u001b[1;32m     54\u001b[0m             \u001b[0mself\u001b[0m\u001b[0;34m.\u001b[0m\u001b[0mfuture\u001b[0m\u001b[0;34m.\u001b[0m\u001b[0mset_exception\u001b[0m\u001b[0;34m(\u001b[0m\u001b[0mexc\u001b[0m\u001b[0;34m)\u001b[0m\u001b[0;34m\u001b[0m\u001b[0;34m\u001b[0m\u001b[0m\n",
      "\u001b[0;32m~/Documents/Programming/Finance/IBKR/ibeam/modules/instruments.py\u001b[0m in \u001b[0;36m_prev_order\u001b[0;34m(args)\u001b[0m\n\u001b[1;32m    317\u001b[0m             \u001b[0mstk\u001b[0m \u001b[0;34m=\u001b[0m \u001b[0margs\u001b[0m\u001b[0;34m[\u001b[0m\u001b[0;36m1\u001b[0m\u001b[0;34m]\u001b[0m\u001b[0;34m\u001b[0m\u001b[0;34m\u001b[0m\u001b[0m\n\u001b[1;32m    318\u001b[0m             \u001b[0;32mif\u001b[0m \u001b[0md\u001b[0m \u001b[0;34m>\u001b[0m \u001b[0;36m0\u001b[0m\u001b[0;34m:\u001b[0m\u001b[0;34m\u001b[0m\u001b[0;34m\u001b[0m\u001b[0m\n\u001b[0;32m--> 319\u001b[0;31m                 \u001b[0;32mreturn\u001b[0m \u001b[0mstk\u001b[0m\u001b[0;34m.\u001b[0m\u001b[0mpreview_buy\u001b[0m\u001b[0;34m(\u001b[0m\u001b[0md\u001b[0m\u001b[0;34m,\u001b[0m \u001b[0mself\u001b[0m\u001b[0;34m.\u001b[0m\u001b[0mserver\u001b[0m\u001b[0;34m)\u001b[0m\u001b[0;34m\u001b[0m\u001b[0;34m\u001b[0m\u001b[0m\n\u001b[0m\u001b[1;32m    320\u001b[0m             \u001b[0;32mif\u001b[0m \u001b[0md\u001b[0m \u001b[0;34m<\u001b[0m \u001b[0;36m0\u001b[0m\u001b[0;34m:\u001b[0m\u001b[0;34m\u001b[0m\u001b[0;34m\u001b[0m\u001b[0m\n\u001b[1;32m    321\u001b[0m                 \u001b[0;32mreturn\u001b[0m \u001b[0mstk\u001b[0m\u001b[0;34m.\u001b[0m\u001b[0mpreview_sell\u001b[0m\u001b[0;34m(\u001b[0m\u001b[0md\u001b[0m\u001b[0;34m,\u001b[0m \u001b[0mself\u001b[0m\u001b[0;34m.\u001b[0m\u001b[0mserver\u001b[0m\u001b[0;34m)\u001b[0m\u001b[0;34m\u001b[0m\u001b[0;34m\u001b[0m\u001b[0m\n",
      "\u001b[0;32m~/Documents/Programming/Finance/IBKR/ibeam/modules/instruments.py\u001b[0m in \u001b[0;36mpreview_buy\u001b[0;34m(self, quantity, srv)\u001b[0m\n\u001b[1;32m    146\u001b[0m         \u001b[0mtotal\u001b[0m \u001b[0;34m=\u001b[0m \u001b[0mfloat\u001b[0m\u001b[0;34m(\u001b[0m\u001b[0mdata\u001b[0m\u001b[0;34m[\u001b[0m\u001b[0;34m\"amount\"\u001b[0m\u001b[0;34m]\u001b[0m\u001b[0;34m[\u001b[0m\u001b[0;34m\"total\"\u001b[0m\u001b[0;34m]\u001b[0m\u001b[0;34m.\u001b[0m\u001b[0msplit\u001b[0m\u001b[0;34m(\u001b[0m\u001b[0;34m)\u001b[0m\u001b[0;34m[\u001b[0m\u001b[0;36m0\u001b[0m\u001b[0;34m]\u001b[0m\u001b[0;34m)\u001b[0m\u001b[0;34m\u001b[0m\u001b[0;34m\u001b[0m\u001b[0m\n\u001b[1;32m    147\u001b[0m         \u001b[0;32mif\u001b[0m \u001b[0mabs\u001b[0m\u001b[0;34m(\u001b[0m\u001b[0mtotal\u001b[0m \u001b[0;34m-\u001b[0m \u001b[0;34m(\u001b[0m\u001b[0mstk_value\u001b[0m \u001b[0;34m+\u001b[0m \u001b[0mcomm\u001b[0m\u001b[0;34m)\u001b[0m\u001b[0;34m)\u001b[0m \u001b[0;34m>\u001b[0m \u001b[0;36m1e-6\u001b[0m\u001b[0;34m:\u001b[0m\u001b[0;34m\u001b[0m\u001b[0;34m\u001b[0m\u001b[0m\n\u001b[0;32m--> 148\u001b[0;31m             raise ValueError('total != commission + stock. '\n\u001b[0m\u001b[1;32m    149\u001b[0m                              f'total: {total} | commission: {comm} | stock: {stk_value}')\n\u001b[1;32m    150\u001b[0m \u001b[0;34m\u001b[0m\u001b[0m\n",
      "\u001b[0;31mValueError\u001b[0m: total != commission + stock. total: 20.0 | commission: 0.2 | stock: 19.81"
     ]
    }
   ],
   "source": [
    "weights = np.ones(5) / 5.0\n",
    "\n",
    "with srv.simulated():\n",
    "    portfolio.order(weights)"
   ]
  }
 ],
 "metadata": {
  "kernelspec": {
   "display_name": "Python 3",
   "language": "python",
   "name": "python3"
  },
  "language_info": {
   "codemirror_mode": {
    "name": "ipython",
    "version": 3
   },
   "file_extension": ".py",
   "mimetype": "text/x-python",
   "name": "python",
   "nbconvert_exporter": "python",
   "pygments_lexer": "ipython3",
   "version": "3.9.3"
  }
 },
 "nbformat": 4,
 "nbformat_minor": 5
}
