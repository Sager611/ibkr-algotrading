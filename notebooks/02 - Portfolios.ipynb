{
 "cells": [
  {
   "cell_type": "markdown",
   "id": "continued-madrid",
   "metadata": {},
   "source": [
    "# 02 - Portfolios\n",
    "\n",
    "In this notebook you can find simple examples that showcase how to programatically create portfolios."
   ]
  },
  {
   "cell_type": "code",
   "execution_count": 1,
   "id": "silent-surface",
   "metadata": {},
   "outputs": [
    {
     "name": "stdout",
     "output_type": "stream",
     "text": [
      "Requirement already satisfied: seaborn in /home/saheru/Documents/Programming/Finance/IBKR/ibeam/env/lib/python3.9/site-packages (0.11.1)\n",
      "Requirement already satisfied: matplotlib>=2.2 in /home/saheru/Documents/Programming/Finance/IBKR/ibeam/env/lib/python3.9/site-packages (from seaborn) (3.4.3)\n",
      "Requirement already satisfied: numpy>=1.15 in /home/saheru/Documents/Programming/Finance/IBKR/ibeam/env/lib/python3.9/site-packages (from seaborn) (1.21.1)\n",
      "Requirement already satisfied: scipy>=1.0 in /home/saheru/Documents/Programming/Finance/IBKR/ibeam/env/lib/python3.9/site-packages (from seaborn) (1.7.1)\n",
      "Requirement already satisfied: pandas>=0.23 in /home/saheru/Documents/Programming/Finance/IBKR/ibeam/env/lib/python3.9/site-packages (from seaborn) (1.3.1)\n",
      "Requirement already satisfied: kiwisolver>=1.0.1 in /home/saheru/Documents/Programming/Finance/IBKR/ibeam/env/lib/python3.9/site-packages (from matplotlib>=2.2->seaborn) (1.3.1)\n",
      "Requirement already satisfied: cycler>=0.10 in /home/saheru/Documents/Programming/Finance/IBKR/ibeam/env/lib/python3.9/site-packages (from matplotlib>=2.2->seaborn) (0.10.0)\n",
      "Requirement already satisfied: pyparsing>=2.2.1 in /home/saheru/Documents/Programming/Finance/IBKR/ibeam/env/lib/python3.9/site-packages (from matplotlib>=2.2->seaborn) (2.4.7)\n",
      "Requirement already satisfied: pillow>=6.2.0 in /home/saheru/Documents/Programming/Finance/IBKR/ibeam/env/lib/python3.9/site-packages (from matplotlib>=2.2->seaborn) (8.3.1)\n",
      "Requirement already satisfied: python-dateutil>=2.7 in /home/saheru/Documents/Programming/Finance/IBKR/ibeam/env/lib/python3.9/site-packages (from matplotlib>=2.2->seaborn) (2.8.2)\n",
      "Requirement already satisfied: pytz>=2017.3 in /home/saheru/Documents/Programming/Finance/IBKR/ibeam/env/lib/python3.9/site-packages (from pandas>=0.23->seaborn) (2021.1)\n",
      "Requirement already satisfied: six in /home/saheru/Documents/Programming/Finance/IBKR/ibeam/env/lib/python3.9/site-packages (from cycler>=0.10->matplotlib>=2.2->seaborn) (1.16.0)\n",
      "\u001b[33mWARNING: You are using pip version 20.2.3; however, version 21.2.4 is available.\n",
      "You should consider upgrading via the '/home/saheru/Documents/Programming/Finance/IBKR/ibeam/env/bin/python3 -m pip install --upgrade pip' command.\u001b[0m\n",
      "Note: you may need to restart the kernel to use updated packages.\n"
     ]
    }
   ],
   "source": [
    "import sys\n",
    "sys.path.insert(0, '../')\n",
    "%reload_ext autoreload\n",
    "%autoreload 2\n",
    "%pip install seaborn"
   ]
  },
  {
   "cell_type": "markdown",
   "id": "indirect-sailing",
   "metadata": {},
   "source": [
    "## Start server\n",
    "\n",
    "The `Server` class is the interface to perform HTTPS requests to acquire data regarding instruments, like stocks."
   ]
  },
  {
   "cell_type": "code",
   "execution_count": 2,
   "id": "convinced-behalf",
   "metadata": {},
   "outputs": [],
   "source": [
    "import time\n",
    "import logging\n",
    "\n",
    "import numpy as np\n",
    "import pandas as pd\n",
    "import seaborn as sns\n",
    "from matplotlib import pyplot as plt\n",
    "\n",
    "from modules.server import Server\n",
    "from modules.instruments import Portfolio"
   ]
  },
  {
   "cell_type": "code",
   "execution_count": 3,
   "id": "permanent-habitat",
   "metadata": {},
   "outputs": [],
   "source": [
    "srv = Server()\n",
    "srv.start()\n",
    "\n",
    "# the following silences the logging output\n",
    "# logging.getLogger('ibkr-algotrading').setLevel(logging.ERROR)"
   ]
  },
  {
   "cell_type": "markdown",
   "id": "statistical-context",
   "metadata": {},
   "source": [
    "Once started, we can request information on any stock we want simply by accesing items in `srv`. These will be cached, so only the first access will have significant delay.\n",
    "\n",
    "First, it is a good idea to know which is our balance,"
   ]
  },
  {
   "cell_type": "code",
   "execution_count": 4,
   "id": "continental-linux",
   "metadata": {},
   "outputs": [
    {
     "data": {
      "text/plain": [
       "(1000000.0, 'USD')"
      ]
     },
     "execution_count": 4,
     "metadata": {},
     "output_type": "execute_result"
    }
   ],
   "source": [
    "srv.balance"
   ]
  },
  {
   "cell_type": "markdown",
   "id": "grand-person",
   "metadata": {},
   "source": [
    "> NOTE: with a simulated IBKR Paper Account you start with 1'000'000 USD, which you can use to test out trading."
   ]
  },
  {
   "cell_type": "markdown",
   "id": "clinical-ideal",
   "metadata": {},
   "source": [
    "## Create Portfolio\n",
    "\n",
    "we can now request some stocks and create a portfolio with them,"
   ]
  },
  {
   "cell_type": "code",
   "execution_count": 5,
   "id": "rising-sixth",
   "metadata": {},
   "outputs": [
    {
     "name": "stderr",
     "output_type": "stream",
     "text": [
      "[2021-08-30 10:42:43,006] I T139720856172096 server.py:344: Started StockCache thread for bar \"1d\". \n",
      "\t\tNext data update will be in  55036.99s.\n"
     ]
    }
   ],
   "source": [
    "stocks = srv[['SPY', 'XOM', 'MSFT', 'AAPL', 'TSLA'], '1y', '1d']\n",
    "\n",
    "portfolio = Portfolio(wealth=100, stocks=stocks)"
   ]
  },
  {
   "cell_type": "markdown",
   "id": "lesser-strand",
   "metadata": {},
   "source": [
    "The `wealth` argument is in the same currency as our account's balance.\n",
    "\n",
    "We can now check how much fraction of stock is allocated for each of the stocks.\n",
    "\n",
    "Of course, right now we haven't bought any stock so it's all zero,"
   ]
  },
  {
   "cell_type": "code",
   "execution_count": 6,
   "id": "loaded-crowd",
   "metadata": {},
   "outputs": [
    {
     "data": {
      "text/plain": [
       "array([0., 0., 0., 0., 0.])"
      ]
     },
     "execution_count": 6,
     "metadata": {},
     "output_type": "execute_result"
    }
   ],
   "source": [
    "portfolio.alloc"
   ]
  },
  {
   "cell_type": "markdown",
   "id": "everyday-appearance",
   "metadata": {},
   "source": [
    "Similarly, our distribution of wealth accross the stocks looks like an all-zero array, and\n",
    "this is the only time it will be like so before we perform our first order.\n",
    "\n",
    "In any other case the \"weights\" will sum up to 1."
   ]
  },
  {
   "cell_type": "code",
   "execution_count": 7,
   "id": "inclusive-offense",
   "metadata": {},
   "outputs": [
    {
     "data": {
      "text/plain": [
       "array([0., 0., 0., 0., 0.])"
      ]
     },
     "execution_count": 7,
     "metadata": {},
     "output_type": "execute_result"
    }
   ],
   "source": [
    "portfolio.weights"
   ]
  },
  {
   "cell_type": "markdown",
   "id": "median-robin",
   "metadata": {},
   "source": [
    "we finally add the portfolio to the server so it knows about its existance,"
   ]
  },
  {
   "cell_type": "code",
   "execution_count": 8,
   "id": "refined-diesel",
   "metadata": {},
   "outputs": [],
   "source": [
    "srv.add_portfolio(portfolio)"
   ]
  },
  {
   "cell_type": "markdown",
   "id": "supported-bible",
   "metadata": {},
   "source": [
    "## Place an order on our portfolio\n",
    "\n",
    "To prevent accidentally losing all of our money, we will trade under a simulated context in which orders are only previewed but we still get whole information on what would happen,"
   ]
  },
  {
   "cell_type": "code",
   "execution_count": 36,
   "id": "informational-reconstruction",
   "metadata": {},
   "outputs": [
    {
     "name": "stderr",
     "output_type": "stream",
     "text": [
      "[2021-08-30 10:09:16,353] W T140319697635136 server.py:545: ENTERING SIMULATED CONTEXT. ALL FOLLOWING TRANSACTIONS WILL BE SIMULATED.\n"
     ]
    },
    {
     "name": "stdout",
     "output_type": "stream",
     "text": [
      "1st order\n"
     ]
    },
    {
     "name": "stderr",
     "output_type": "stream",
     "text": [
      "[2021-08-30 10:09:16,885] W T140318158599744 instruments.py:147: Provided quantity for stock \"Stock(\"SPY\", conid=756733)\" is too precise. The following amount will be lost: 2.2768245622195593e-18\n",
      "[2021-08-30 10:09:16,886] W T140318150207040 instruments.py:147: Provided quantity for stock \"Stock(\"XOM\", conid=13977)\" is too precise. The following amount will be lost: 9.717161970901333e-18\n",
      "[2021-08-30 10:09:16,887] W T140318166992448 instruments.py:147: Provided quantity for stock \"Stock(\"MSFT\", conid=272093)\" is too precise. The following amount will be lost: 2.8053731213062427e-18\n",
      "[2021-08-30 10:09:16,892] W T140318183777856 instruments.py:147: Provided quantity for stock \"Stock(\"AAPL\", conid=265598)\" is too precise. The following amount will be lost: 9.999999999999544e-05\n",
      "[2021-08-30 10:09:16,902] W T140318175385152 instruments.py:147: Provided quantity for stock \"Stock(\"TSLA\", conid=76792991)\" is too precise. The following amount will be lost: 4.607859233063394e-19\n",
      "[2021-08-30 10:09:18,325] I T140319697635136 instruments.py:413: weights: [0.2 0.2 0.2 0.2 0.2] | diff: [0.044  0.3551 0.0661 0.1333 0.0278] | comm: ['0.20 USD' '0.20 USD' '0.20 USD' '0.20 USD' '0.20 USD'] | total spent: ['20.02 USD' '20.01 USD' '20.11 USD' '20.02 USD' '20.08 USD']\n",
      "[2021-08-30 10:09:18,327] I T140319697635136 instruments.py:414: stk vals: [450.25  55.77 299.72 148.6  711.92] | share vals: ['19.82 USD (0.044 SHARES)' '19.81 USD (0.3551 SHARES)'\n",
      " '19.91 USD (0.0661 SHARES)' '19.82 USD (0.1333 SHARES)'\n",
      " '19.88 USD (0.0278 SHARES)']\n"
     ]
    },
    {
     "name": "stdout",
     "output_type": "stream",
     "text": [
      "Portfolio wealth:  99.02617500000001\n",
      "commission: 0.9900990000000001 Wealth + commission:  100.01627400000001\n",
      "2nd order\n"
     ]
    },
    {
     "name": "stderr",
     "output_type": "stream",
     "text": [
      "[2021-08-30 10:09:20,581] W T140318183777856 instruments.py:147: Provided quantity for stock \"Stock(\"SPY\", conid=756733)\" is too precise. The following amount will be lost: 1.7076184216646695e-18\n",
      "[2021-08-30 10:09:20,583] W T140318150207040 instruments.py:178: Provided quantity for stock \"Stock(\"XOM\", conid=13977)\" is too precise. The following amount will be lost: 9.717161970901333e-18\n",
      "[2021-08-30 10:09:20,584] W T140318175385152 instruments.py:178: Provided quantity for stock \"Stock(\"MSFT\", conid=272093)\" is too precise. The following amount will be lost: 2.8053731213062427e-18\n",
      "[2021-08-30 10:09:20,585] W T140318166992448 instruments.py:178: Provided quantity for stock \"Stock(\"AAPL\", conid=265598)\" is too precise. The following amount will be lost: 9.999999999999544e-05\n",
      "[2021-08-30 10:09:20,587] W T140318158599744 instruments.py:178: Provided quantity for stock \"Stock(\"TSLA\", conid=76792991)\" is too precise. The following amount will be lost: 4.607859233063394e-19\n",
      "[2021-08-30 10:09:22,085] I T140319697635136 instruments.py:413: weights: [1. 0. 0. 0. 0.] | diff: [ 0.1738 -0.3551 -0.0661 -0.1333 -0.0278] | comm: ['0.78 USD' '0.20 USD' '0.20 USD' '0.20 USD' '0.20 USD'] | total spent: ['79.07 USD' '19.62 USD' '19.71 USD' '19.62 USD' '19.68 USD']\n",
      "[2021-08-30 10:09:22,086] I T140319697635136 instruments.py:414: stk vals: [450.25  55.77 299.72 148.6  711.92] | share vals: ['78.29 USD (0.1738 SHARES)' '19.81 USD (0.3551 SHARES)'\n",
      " '19.91 USD (0.0661 SHARES)' '19.82 USD (0.1333 SHARES)'\n",
      " '19.88 USD (0.0278 SHARES)']\n"
     ]
    },
    {
     "name": "stdout",
     "output_type": "stream",
     "text": [
      "Portfolio wealth:  98.06445000000001\n",
      "commission: 1.9705561684132502 Wealth + commission:  100.03500616841326\n",
      "3rd order\n"
     ]
    },
    {
     "name": "stderr",
     "output_type": "stream",
     "text": [
      "[2021-08-30 10:09:24,744] W T140318175385152 instruments.py:178: Provided quantity for stock \"Stock(\"SPY\", conid=756733)\" is too precise. The following amount will be lost: 1.179069862577986e-18\n",
      "[2021-08-30 10:09:24,745] W T140318158599744 instruments.py:147: Provided quantity for stock \"Stock(\"XOM\", conid=13977)\" is too precise. The following amount will be lost: 9.999999999999641e-05\n",
      "[2021-08-30 10:09:25,048] I T140319697635136 instruments.py:413: weights: [0.9 0.1 0.  0.  0. ] | diff: [-0.0237  0.1741  0.      0.      0.    ] | comm: ['0.11 USD' '0.10 USD'] | total spent: ['10.57 USD' '9.81 USD']\n",
      "[2021-08-30 10:09:25,049] I T140319697635136 instruments.py:414: stk vals: [450.25  55.77 299.72 148.6  711.92] | share vals: ['10.68 USD (0.0237 SHARES)' '9.71 USD (0.1741 SHARES)']\n"
     ]
    },
    {
     "name": "stdout",
     "output_type": "stream",
     "text": [
      "Portfolio wealth:  97.10308200000001\n"
     ]
    },
    {
     "name": "stderr",
     "output_type": "stream",
     "text": [
      "[2021-08-30 10:09:26,523] W T140319697635136 server.py:552: LEAVING SIMULATED CONTEXT. ALL FOLLOWING TRANSACTIONS WILL BE REAL.\n"
     ]
    },
    {
     "name": "stdout",
     "output_type": "stream",
     "text": [
      "commission: 2.94149130721875 Wealth + commission:  100.04457330721877\n",
      "Portfolio orders:\n",
      "                            SPY  XOM  MSFT  AAPL  TSLA\n",
      "2021-08-30 10:09:18.328948  0.2  0.2   0.2   0.2   0.2\n",
      "2021-08-30 10:09:22.087066  1.0  0.0   0.0   0.0   0.0\n",
      "2021-08-30 10:09:25.049764  0.9  0.1   0.0   0.0   0.0\n"
     ]
    }
   ],
   "source": [
    "# distribute the portfolio equally accross stocks\n",
    "weights = np.ones(5) / 5.0\n",
    "\n",
    "with srv.simulated():\n",
    "    # 1st order\n",
    "    print('1st order')\n",
    "    portfolio.order(weights)\n",
    "\n",
    "    # the wealth of the portfolio decreases since the\n",
    "    # transactions take a commission\n",
    "    print('Portfolio wealth: ', portfolio.wealth)\n",
    "    print('commission:', portfolio.commission, 'Wealth + commission: ', portfolio.wealth + portfolio.commission)\n",
    "\n",
    "    # 2nd order\n",
    "    # we will put all our money on SPY\n",
    "    weights[0] = 1.0\n",
    "    weights[1:] = 0.0\n",
    "    print('2nd order')\n",
    "    portfolio.order(weights)\n",
    "\n",
    "    print('Portfolio wealth: ', portfolio.wealth)\n",
    "    print('commission:', portfolio.commission, 'Wealth + commission: ', portfolio.wealth + portfolio.commission)\n",
    "\n",
    "    # 3rd order\n",
    "    # now we will give a litle to XOM\n",
    "    weights[0] = 0.9\n",
    "    weights[1] = 0.1\n",
    "    print('3rd order')\n",
    "    portfolio.order(weights)\n",
    "\n",
    "    print('Portfolio wealth: ', portfolio.wealth)\n",
    "    print('commission:', portfolio.commission, 'Wealth + commission: ', portfolio.wealth + portfolio.commission)\n",
    "\n",
    "    # we can also list all orders that have happened on this portfolio.\n",
    "    # the stored values are the weights, or distribution of wealth\n",
    "    # accross the stocks. So, 0.2 on SPY means 20% of the portfolio's\n",
    "    # wealth is in the form of SPY's shares at that given time.\n",
    "    print('Portfolio orders:')\n",
    "    print(portfolio.orders)"
   ]
  },
  {
   "cell_type": "markdown",
   "id": "a06ae0c7-1233-46cd-a6c4-f6de334a5090",
   "metadata": {},
   "source": [
    "Note that after we exit the simulated context, the whole state of the server will be restored, meaning all orders in the\n",
    "portfolio will disappear and it will return to its previous state."
   ]
  },
  {
   "cell_type": "code",
   "execution_count": 37,
   "id": "700a6fc7-664f-4120-b150-6d8b60ca6c91",
   "metadata": {},
   "outputs": [
    {
     "name": "stdout",
     "output_type": "stream",
     "text": [
      "Portfolio orders:\n",
      "Empty DataFrame\n",
      "Columns: []\n",
      "Index: []\n"
     ]
    }
   ],
   "source": [
    "# after exiting the simulation, the portfolio does not have any orders\n",
    "print('Portfolio orders:')\n",
    "print(portfolio.orders)"
   ]
  },
  {
   "cell_type": "markdown",
   "id": "7697a277-b71b-41ad-b87c-668119fd8ce5",
   "metadata": {},
   "source": [
    "## Place an order back-in-time and check statistics\n",
    "\n",
    "In a simulated context we can also \"place orders\" in the past by using historical data. This allows us to easily study the performance of the portfolio. \n",
    "\n",
    "> NOTE: back-in-time orders only work in a simulated context."
   ]
  },
  {
   "cell_type": "code",
   "execution_count": 11,
   "id": "0f7e4545-7440-4c0e-9325-64a434b81bc6",
   "metadata": {},
   "outputs": [
    {
     "name": "stderr",
     "output_type": "stream",
     "text": [
      "[2021-08-30 10:43:33,835] W T139722359822144 server.py:547: ENTERING SIMULATED CONTEXT. ALL FOLLOWING TRANSACTIONS WILL BE SIMULATED.\n"
     ]
    },
    {
     "name": "stdout",
     "output_type": "stream",
     "text": [
      "date of order: 2020-08-30 10:43:33.834430\n",
      "1st order\n"
     ]
    },
    {
     "name": "stderr",
     "output_type": "stream",
     "text": [
      "[2021-08-30 10:43:34,808] W T139720822601280 instruments.py:151: Provided quantity for stock \"Stock(\"SPY\", conid=756733)\" is too precise. The following amount will be lost: 9.999999999999891e-05\n",
      "[2021-08-30 10:43:34,808] W T139720830993984 instruments.py:151: Provided quantity for stock \"Stock(\"XOM\", conid=13977)\" is too precise. The following amount will be lost: 9.999999999999818e-05\n",
      "[2021-08-30 10:43:34,809] W T139720839386688 instruments.py:151: Provided quantity for stock \"Stock(\"MSFT\", conid=272093)\" is too precise. The following amount will be lost: 3.2932640989247197e-18\n",
      "[2021-08-30 10:43:34,810] W T139720847779392 instruments.py:151: Provided quantity for stock \"Stock(\"AAPL\", conid=265598)\" is too precise. The following amount will be lost: 1.2197274440461925e-19\n",
      "[2021-08-30 10:43:34,811] W T139720814208576 instruments.py:151: Provided quantity for stock \"Stock(\"TSLA\", conid=76792991)\" is too precise. The following amount will be lost: 1.4772254600114998e-18\n",
      "[2021-08-30 10:43:35,722] I T139722359822144 instruments.py:413: weights: [0.2 0.2 0.2 0.2 0.2] | diff: [0.0565 0.4867 0.0865 0.1587 0.0447] | comm: ['0.25 USD' '0.27 USD' '0.26 USD' '0.24 USD' '0.32 USD'] | total spent: ['25.71 USD' '27.50 USD' '26.29 USD' '23.82 USD' '32.30 USD']\n",
      "[2021-08-30 10:43:35,724] I T139722359822144 instruments.py:414: stk vals: [350.58  40.69 228.91 124.81 442.68] | share vals: ['25.45 USD (0.0565 SHARES)' '27.23 USD (0.4867 SHARES)'\n",
      " '26.03 USD (0.0865 SHARES)' '23.59 USD (0.1587 SHARES)'\n",
      " '31.98 USD (0.0447 SHARES)']\n"
     ]
    },
    {
     "name": "stdout",
     "output_type": "stream",
     "text": [
      "Today's portfolio wealth:  134.401318\n"
     ]
    },
    {
     "name": "stderr",
     "output_type": "stream",
     "text": [
      "[2021-08-30 10:43:36,636] W T139722359822144 server.py:554: LEAVING SIMULATED CONTEXT. ALL FOLLOWING TRANSACTIONS WILL BE REAL.\n"
     ]
    },
    {
     "name": "stdout",
     "output_type": "stream",
     "text": [
      "commission: 0.9900990000000001 Today's wealth + commission:  135.391417\n",
      "Portfolio orders:\n",
      "                            SPY  XOM  MSFT  AAPL  TSLA\n",
      "2020-08-30 10:43:33.834430  0.2  0.2   0.2   0.2   0.2\n"
     ]
    }
   ],
   "source": [
    "# we will use as order date one year before today\n",
    "date = pd.Timestamp.today() - pd.Timedelta(days=365)\n",
    "print('date of order:', date)\n",
    "\n",
    "# distribute the portfolio equally accross stocks\n",
    "weights = np.ones(5) / 5.0\n",
    "\n",
    "with srv.simulated():\n",
    "    # 1st order\n",
    "    print('1st order')\n",
    "    portfolio.order(weights, date=date)\n",
    "\n",
    "    # the wealth of the portfolio decreases since the\n",
    "    # transactions take a commission\n",
    "    print('Today\\'s portfolio wealth: ', portfolio.wealth)\n",
    "    print('commission:', portfolio.commission, 'Today\\'s wealth + commission: ', portfolio.wealth + portfolio.commission)\n",
    "\n",
    "    # we can also list all orders that have happened on this portfolio.\n",
    "    # the stored values are the weights, or distribution of wealth\n",
    "    # accross the stocks. So, 0.2 on SPY means 20% of the portfolio's\n",
    "    # wealth is in the form of SPY's shares at that given time.\n",
    "    print('Portfolio orders:')\n",
    "    print(portfolio.orders)"
   ]
  },
  {
   "cell_type": "code",
   "execution_count": null,
   "id": "3a9008e2-bf1d-4b3d-a7c9-7b6584a3a734",
   "metadata": {},
   "outputs": [],
   "source": []
  }
 ],
 "metadata": {
  "kernelspec": {
   "display_name": "Python 3",
   "language": "python",
   "name": "python3"
  },
  "language_info": {
   "codemirror_mode": {
    "name": "ipython",
    "version": 3
   },
   "file_extension": ".py",
   "mimetype": "text/x-python",
   "name": "python",
   "nbconvert_exporter": "python",
   "pygments_lexer": "ipython3",
   "version": "3.9.3"
  }
 },
 "nbformat": 4,
 "nbformat_minor": 5
}
