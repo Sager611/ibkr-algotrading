{
 "cells": [
  {
   "cell_type": "markdown",
   "id": "18b25a5d-0d70-4de9-b4f7-e9b0fb2013ee",
   "metadata": {},
   "source": [
    "# 03 - Algorithms\n",
    "\n",
    "In this notebook you can find simple examples that showcase how to predict the best future portfolio values according to some heuristic.\n",
    "\n",
    "You can create your own algorithms by creating a Python module in `modules/experts/`. You have to follow the format of `modules/experts/Sharpe.py`."
   ]
  },
  {
   "cell_type": "code",
   "execution_count": 1,
   "id": "8e96ac20-8658-440c-9cc2-044ac1412cf7",
   "metadata": {},
   "outputs": [],
   "source": [
    "import sys\n",
    "sys.path.insert(0, '../')\n",
    "%reload_ext autoreload\n",
    "%autoreload 2"
   ]
  },
  {
   "cell_type": "markdown",
   "id": "65665a58-0f43-48da-85aa-2044a00710d9",
   "metadata": {},
   "source": [
    "## Start server\n",
    "\n",
    "The `Server` class is the interface to perform HTTPS requests to acquire data regarding instruments, like stocks."
   ]
  },
  {
   "cell_type": "code",
   "execution_count": 2,
   "id": "29a098ec-0dcd-4b59-9f25-0b4aa77ccd19",
   "metadata": {},
   "outputs": [],
   "source": [
    "import time\n",
    "import logging\n",
    "\n",
    "import numpy as np\n",
    "import pandas as pd\n",
    "import seaborn as sns\n",
    "from matplotlib import pyplot as plt\n",
    "\n",
    "from modules.server import Server\n",
    "from modules.instruments import Portfolio"
   ]
  },
  {
   "cell_type": "code",
   "execution_count": 3,
   "id": "34ae3fb3-3286-436b-b474-cbb6378d1d12",
   "metadata": {},
   "outputs": [],
   "source": [
    "srv = Server()\n",
    "srv.start()\n",
    "\n",
    "# the following silences the logging output\n",
    "# logging.getLogger('ibkr-algotrading').setLevel(logging.ERROR)"
   ]
  },
  {
   "cell_type": "markdown",
   "id": "60de7c8a-1b55-4004-a7a0-a39da2c46d03",
   "metadata": {},
   "source": [
    "Once started, we can request information on any stock we want simply by accesing items in `srv`. These will be cached, so only the first access will have significant delay."
   ]
  },
  {
   "cell_type": "markdown",
   "id": "4d9b6d73-1341-4207-861d-58c6cf1726c0",
   "metadata": {},
   "source": [
    "## Create Portfolio\n",
    "\n",
    "we can now request some stocks and create a portfolio with them, adding the portfolio to the server so it knows about its existance"
   ]
  },
  {
   "cell_type": "code",
   "execution_count": 5,
   "id": "4d2fc44f-9382-4a18-a0c2-35ed28fdb3b1",
   "metadata": {},
   "outputs": [
    {
     "name": "stderr",
     "output_type": "stream",
     "text": [
      "[2021-09-08 10:36:59,937] I T140145377912384 server.py:467: Started StockCache thread for bar \"1d\". \n",
      "\t\tNext data update will be in  55380.06s.\n",
      "[2021-09-08 10:37:00,012] I T140145369519680 server.py:449: Loaded \"Stock(\"XOM\", conid=13977)\" from StockCache's storage.\n",
      "[2021-09-08 10:37:00,033] I T140145361126976 server.py:449: Loaded \"Stock(\"MSFT\", conid=272093)\" from StockCache's storage.\n",
      "[2021-09-08 10:37:00,050] I T140145352734272 server.py:449: Loaded \"Stock(\"AAPL\", conid=265598)\" from StockCache's storage.\n",
      "[2021-09-08 10:37:00,068] I T140145344341568 server.py:449: Loaded \"Stock(\"TSLA\", conid=76792991)\" from StockCache's storage.\n"
     ]
    }
   ],
   "source": [
    "# historical data in a 1 year period in 1 day intervals\n",
    "stocks = srv[['SPY', 'XOM', 'MSFT', 'AAPL', 'TSLA'], '1y', '1d']\n",
    "\n",
    "# wealth of 100 USD\n",
    "portfolio = Portfolio(wealth=100, stocks=stocks)\n",
    "\n",
    "srv.add_portfolio(portfolio)"
   ]
  },
  {
   "cell_type": "markdown",
   "id": "e0e3665e-229c-4bd6-bda6-c52f7e50c978",
   "metadata": {},
   "source": [
    "## Experts\n",
    "\n",
    "Experts are sub-algorithms that provide a prediction to how the wealth of the portfolio should be allocated.\n",
    "\n",
    "We will use an expert that predicts the allocation that maximizes the sharpe ratio of the portfolio."
   ]
  },
  {
   "cell_type": "code",
   "execution_count": 19,
   "id": "b50ce1a0-950a-45eb-bea5-efb918a67d73",
   "metadata": {},
   "outputs": [
    {
     "name": "stderr",
     "output_type": "stream",
     "text": [
      "[2021-09-08 20:18:08,337] I T140146814007104 Sharpe.py:69: Starting Sharpe ratio optimizer for dates: 2020-09-09 13:30:00 -> 2021-09-08 20:18:08.337229\n"
     ]
    },
    {
     "name": "stdout",
     "output_type": "stream",
     "text": [
      "Predicting for date: 2021-09-09 20:18:08.335920\n"
     ]
    },
    {
     "name": "stderr",
     "output_type": "stream",
     "text": [
      "[2021-09-08 20:18:11,000] I T140146814007104 Sharpe.py:86: sharpe:  1.89 \n",
      "\t\tweights: [0.25, 0.25, 0.25, 0.25, 0.25]\n",
      "[2021-09-08 20:18:13,491] I T140146814007104 Sharpe.py:86: sharpe:  1.89 \n",
      "\t\tweights: [0.25, 0.25, 0.25, 0.25, 0.25]\n",
      "[2021-09-08 20:18:15,980] I T140146814007104 Sharpe.py:86: sharpe:  1.89 \n",
      "\t\tweights: [0.25, 0.25, 0.25, 0.25, 0.25]\n",
      "[2021-09-08 20:18:18,449] I T140146814007104 Sharpe.py:86: sharpe:  1.89 \n",
      "\t\tweights: [0.25, 0.25, 0.25, 0.25, 0.25]\n",
      "[2021-09-08 20:18:20,894] I T140146814007104 Sharpe.py:86: sharpe:  1.89 \n",
      "\t\tweights: [0.25, 0.25, 0.25, 0.25, 0.25]\n",
      "[2021-09-08 20:18:23,397] I T140146814007104 Sharpe.py:86: sharpe:  1.89 \n",
      "\t\tweights: [0.25, 0.25, 0.25, 0.25, 0.25]\n",
      "[2021-09-08 20:18:25,868] I T140146814007104 Sharpe.py:86: sharpe:  1.72 \n",
      "\t\tweights: [0.26, 0.47, 0.27, 2.8e-17, 0]\n",
      "[2021-09-08 20:18:28,324] I T140146814007104 Sharpe.py:86: sharpe:  1.99 \n",
      "\t\tweights: [0.25, 0.33, 0.26, 0.15, 0.15]\n",
      "[2021-09-08 20:18:30,797] I T140146814007104 Sharpe.py:86: sharpe:  1.99 \n",
      "\t\tweights: [0.25, 0.33, 0.26, 0.15, 0.15]\n",
      "[2021-09-08 20:18:33,276] I T140146814007104 Sharpe.py:86: sharpe:  1.99 \n",
      "\t\tweights: [0.25, 0.33, 0.26, 0.15, 0.15]\n",
      "[2021-09-08 20:18:35,797] I T140146814007104 Sharpe.py:86: sharpe:  1.99 \n",
      "\t\tweights: [0.25, 0.33, 0.26, 0.15, 0.15]\n",
      "[2021-09-08 20:18:38,276] I T140146814007104 Sharpe.py:86: sharpe:  1.99 \n",
      "\t\tweights: [0.25, 0.33, 0.26, 0.15, 0.15]\n",
      "[2021-09-08 20:18:40,722] I T140146814007104 Sharpe.py:86: sharpe:  1.99 \n",
      "\t\tweights: [0.25, 0.33, 0.26, 0.15, 0.15]\n",
      "[2021-09-08 20:18:43,173] I T140146814007104 Sharpe.py:86: sharpe:  2.02 \n",
      "\t\tweights: [0.33, 0.25, 0.42, 2.8e-17, 5.6e-17]\n",
      "[2021-09-08 20:18:45,858] I T140146814007104 Sharpe.py:86: sharpe:  2.02 \n",
      "\t\tweights: [0.33, 0.25, 0.42, 2.8e-17, 5.6e-17]\n",
      "[2021-09-08 20:18:48,555] I T140146814007104 Sharpe.py:86: sharpe:  2.02 \n",
      "\t\tweights: [0.33, 0.25, 0.42, 2.8e-17, 5.6e-17]\n",
      "[2021-09-08 20:18:51,114] I T140146814007104 Sharpe.py:86: sharpe:  2.02 \n",
      "\t\tweights: [0.33, 0.25, 0.42, 2.8e-17, 5.6e-17]\n",
      "[2021-09-08 20:18:53,730] I T140146814007104 Sharpe.py:86: sharpe:  2.02 \n",
      "\t\tweights: [0.33, 0.25, 0.42, 1.5e-08, 5.6e-17]\n",
      "[2021-09-08 20:18:56,352] I T140146814007104 Sharpe.py:86: sharpe:  2.02 \n",
      "\t\tweights: [0.33, 0.25, 0.42, 2.8e-17, 1.5e-08]\n",
      "[2021-09-08 20:18:58,947] I T140146814007104 Sharpe.py:86: sharpe:  2.12 \n",
      "\t\tweights: [0.33, 0.16, 0.43, 1.4e-16, 0.081]\n",
      "[2021-09-08 20:19:01,532] I T140146814007104 Sharpe.py:86: sharpe:  2.12 \n",
      "\t\tweights: [0.33, 0.16, 0.43, 1.4e-16, 0.081]\n",
      "[2021-09-08 20:19:04,297] I T140146814007104 Sharpe.py:86: sharpe:  2.12 \n",
      "\t\tweights: [0.33, 0.16, 0.43, 1.4e-16, 0.081]\n",
      "[2021-09-08 20:19:06,898] I T140146814007104 Sharpe.py:86: sharpe:  2.12 \n",
      "\t\tweights: [0.33, 0.16, 0.43, 1.4e-16, 0.081]\n",
      "[2021-09-08 20:19:09,495] I T140146814007104 Sharpe.py:86: sharpe:  2.12 \n",
      "\t\tweights: [0.33, 0.16, 0.43, 1.5e-08, 0.081]\n",
      "[2021-09-08 20:19:12,620] I T140146814007104 Sharpe.py:86: sharpe:  2.12 \n",
      "\t\tweights: [0.33, 0.16, 0.43, 1.4e-16, 0.081]\n",
      "[2021-09-08 20:19:15,364] I T140146814007104 Sharpe.py:86: sharpe:  2.14 \n",
      "\t\tweights: [0.42, 0.17, 0.34, 6.8e-16, 0.07]\n",
      "[2021-09-08 20:19:17,925] I T140146814007104 Sharpe.py:86: sharpe:  2.14 \n",
      "\t\tweights: [0.42, 0.17, 0.34, 6.8e-16, 0.07]\n",
      "[2021-09-08 20:19:20,550] I T140146814007104 Sharpe.py:86: sharpe:  2.14 \n",
      "\t\tweights: [0.42, 0.17, 0.34, 6.8e-16, 0.07]\n",
      "[2021-09-08 20:19:23,206] I T140146814007104 Sharpe.py:86: sharpe:  2.14 \n",
      "\t\tweights: [0.42, 0.17, 0.34, 6.8e-16, 0.07]\n",
      "[2021-09-08 20:19:25,830] I T140146814007104 Sharpe.py:86: sharpe:  2.14 \n",
      "\t\tweights: [0.42, 0.17, 0.34, 1.5e-08, 0.07]\n",
      "[2021-09-08 20:19:28,641] I T140146814007104 Sharpe.py:86: sharpe:  2.14 \n",
      "\t\tweights: [0.42, 0.17, 0.34, 6.8e-16, 0.07]\n",
      "[2021-09-08 20:19:31,246] I T140146814007104 Sharpe.py:86: sharpe:  2.14 \n",
      "\t\tweights: [0.76, 0.078, 0.17, 0, 0]\n",
      "[2021-09-08 20:19:33,906] I T140146814007104 Sharpe.py:86: sharpe:  2.16 \n",
      "\t\tweights: [0.58, 0.13, 0.25, 3.6e-16, 0.036]\n",
      "[2021-09-08 20:19:36,633] I T140146814007104 Sharpe.py:86: sharpe:  2.16 \n",
      "\t\tweights: [0.58, 0.13, 0.25, 3.6e-16, 0.036]\n",
      "[2021-09-08 20:19:39,236] I T140146814007104 Sharpe.py:86: sharpe:  2.16 \n",
      "\t\tweights: [0.58, 0.13, 0.25, 3.6e-16, 0.036]\n",
      "[2021-09-08 20:19:41,798] I T140146814007104 Sharpe.py:86: sharpe:  2.16 \n",
      "\t\tweights: [0.58, 0.13, 0.25, 3.6e-16, 0.036]\n",
      "[2021-09-08 20:19:44,464] I T140146814007104 Sharpe.py:86: sharpe:  2.16 \n",
      "\t\tweights: [0.58, 0.13, 0.25, 1.5e-08, 0.036]\n",
      "[2021-09-08 20:19:47,056] I T140146814007104 Sharpe.py:86: sharpe:  2.16 \n",
      "\t\tweights: [0.58, 0.13, 0.25, 3.6e-16, 0.036]\n",
      "[2021-09-08 20:19:49,879] I T140146814007104 Sharpe.py:86: sharpe:  2.17 \n",
      "\t\tweights: [0.73, 0.086, 0.16, 0, 0.032]\n",
      "[2021-09-08 20:19:52,720] I T140146814007104 Sharpe.py:86: sharpe:  2.17 \n",
      "\t\tweights: [0.73, 0.086, 0.16, 0, 0.032]\n",
      "[2021-09-08 20:19:55,578] I T140146814007104 Sharpe.py:86: sharpe:  2.17 \n",
      "\t\tweights: [0.73, 0.086, 0.16, 0, 0.032]\n",
      "[2021-09-08 20:19:58,153] I T140146814007104 Sharpe.py:86: sharpe:  2.17 \n",
      "\t\tweights: [0.73, 0.086, 0.16, 0, 0.032]\n",
      "[2021-09-08 20:20:00,704] I T140146814007104 Sharpe.py:86: sharpe:  2.17 \n",
      "\t\tweights: [0.73, 0.086, 0.16, 1.5e-08, 0.032]\n",
      "[2021-09-08 20:20:03,361] I T140146814007104 Sharpe.py:86: sharpe:  2.17 \n",
      "\t\tweights: [0.73, 0.086, 0.16, 0, 0.032]\n",
      "[2021-09-08 20:20:06,106] I T140146814007104 Sharpe.py:86: sharpe:  2.17 \n",
      "\t\tweights: [0.71, 0.084, 0.17, 0, 0.039]\n",
      "[2021-09-08 20:20:09,101] I T140146814007104 Sharpe.py:86: sharpe:  2.17 \n",
      "\t\tweights: [0.71, 0.084, 0.17, 0, 0.039]\n",
      "[2021-09-08 20:20:14,215] I T140146814007104 Sharpe.py:86: sharpe:  2.17 \n",
      "\t\tweights: [0.71, 0.084, 0.17, 0, 0.039]\n",
      "[2021-09-08 20:20:18,865] I T140146814007104 Sharpe.py:86: sharpe:  2.17 \n",
      "\t\tweights: [0.71, 0.084, 0.17, 0, 0.039]\n",
      "[2021-09-08 20:20:21,753] I T140146814007104 Sharpe.py:86: sharpe:  2.17 \n",
      "\t\tweights: [0.71, 0.084, 0.17, 1.5e-08, 0.039]\n",
      "[2021-09-08 20:20:24,805] I T140146814007104 Sharpe.py:86: sharpe:  2.17 \n",
      "\t\tweights: [0.71, 0.084, 0.17, 0, 0.039]\n",
      "[2021-09-08 20:20:27,391] I T140146814007104 Sharpe.py:86: sharpe:  2.17 \n",
      "\t\tweights: [0.71, 0.084, 0.16, 6.4e-16, 0.038]\n",
      "[2021-09-08 20:20:29,943] I T140146814007104 Sharpe.py:86: sharpe:  2.17 \n",
      "\t\tweights: [0.71, 0.084, 0.16, 6.4e-16, 0.038]\n",
      "[2021-09-08 20:20:32,536] I T140146814007104 Sharpe.py:86: sharpe:  2.17 \n",
      "\t\tweights: [0.71, 0.084, 0.16, 6.4e-16, 0.038]\n",
      "[2021-09-08 20:20:35,260] I T140146814007104 Sharpe.py:86: sharpe:  2.17 \n",
      "\t\tweights: [0.71, 0.084, 0.16, 6.4e-16, 0.038]\n",
      "[2021-09-08 20:20:37,871] I T140146814007104 Sharpe.py:86: sharpe:  2.17 \n",
      "\t\tweights: [0.71, 0.084, 0.16, 1.5e-08, 0.038]\n",
      "[2021-09-08 20:20:40,473] I T140146814007104 Sharpe.py:86: sharpe:  2.17 \n",
      "\t\tweights: [0.71, 0.084, 0.16, 6.4e-16, 0.038]\n",
      "[2021-09-08 20:20:40,474] I T140146814007104 Sharpe.py:90: Finished Sharpe ratio optimizer\n"
     ]
    }
   ],
   "source": [
    "from modules import experts\n",
    "\n",
    "# some experts may need initialisation\n",
    "experts.Sharpe.init()\n",
    "\n",
    "# predict for tomorrow\n",
    "date = pd.Timestamp.today() + pd.Timedelta(days=1)\n",
    "print('Predicting for date:', date)\n",
    "\n",
    "weights = experts.Sharpe.predict(pf=portfolio, date=date, srv=srv)"
   ]
  }
 ],
 "metadata": {
  "kernelspec": {
   "display_name": "Python 3",
   "language": "python",
   "name": "python3"
  },
  "language_info": {
   "codemirror_mode": {
    "name": "ipython",
    "version": 3
   },
   "file_extension": ".py",
   "mimetype": "text/x-python",
   "name": "python",
   "nbconvert_exporter": "python",
   "pygments_lexer": "ipython3",
   "version": "3.9.3"
  }
 },
 "nbformat": 4,
 "nbformat_minor": 5
}
