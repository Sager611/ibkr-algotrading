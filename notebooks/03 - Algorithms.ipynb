{
 "cells": [
  {
   "cell_type": "markdown",
   "id": "18b25a5d-0d70-4de9-b4f7-e9b0fb2013ee",
   "metadata": {},
   "source": [
    "# 03 - Algorithms\n",
    "\n",
    "In this notebook you can find simple examples that showcase how to predict the best future portfolio values according to some heuristic.\n",
    "\n",
    "You can create your own algorithms by creating a Python module in `modules/experts/`. You have to follow the format of `modules/experts/Sharpe.py`."
   ]
  },
  {
   "cell_type": "code",
   "execution_count": 1,
   "id": "8e96ac20-8658-440c-9cc2-044ac1412cf7",
   "metadata": {},
   "outputs": [],
   "source": [
    "import sys\n",
    "sys.path.insert(0, '../')\n",
    "%reload_ext autoreload\n",
    "%autoreload 2"
   ]
  },
  {
   "cell_type": "markdown",
   "id": "65665a58-0f43-48da-85aa-2044a00710d9",
   "metadata": {},
   "source": [
    "## Start server\n",
    "\n",
    "The `Server` class is the interface to perform HTTPS requests to acquire data regarding instruments, like stocks."
   ]
  },
  {
   "cell_type": "code",
   "execution_count": 2,
   "id": "29a098ec-0dcd-4b59-9f25-0b4aa77ccd19",
   "metadata": {},
   "outputs": [],
   "source": [
    "import time\n",
    "import logging\n",
    "\n",
    "import numpy as np\n",
    "import pandas as pd\n",
    "import seaborn as sns\n",
    "from matplotlib import pyplot as plt\n",
    "\n",
    "from modules.server import Server\n",
    "from modules.instruments import Portfolio"
   ]
  },
  {
   "cell_type": "code",
   "execution_count": 3,
   "id": "34ae3fb3-3286-436b-b474-cbb6378d1d12",
   "metadata": {},
   "outputs": [],
   "source": [
    "srv = Server()\n",
    "srv.start()\n",
    "\n",
    "# the following silences the logging output\n",
    "# logging.getLogger('ibkr-algotrading').setLevel(logging.ERROR)"
   ]
  },
  {
   "cell_type": "markdown",
   "id": "60de7c8a-1b55-4004-a7a0-a39da2c46d03",
   "metadata": {},
   "source": [
    "Once started, we can request information on any stock we want simply by accesing items in `srv`. These will be cached, so only the first access will have significant delay."
   ]
  },
  {
   "cell_type": "markdown",
   "id": "4d9b6d73-1341-4207-861d-58c6cf1726c0",
   "metadata": {},
   "source": [
    "## Create Portfolio\n",
    "\n",
    "we can now request some stocks and create a portfolio with them, adding the portfolio to the server so it knows about its existance"
   ]
  },
  {
   "cell_type": "code",
   "execution_count": 4,
   "id": "4d2fc44f-9382-4a18-a0c2-35ed28fdb3b1",
   "metadata": {},
   "outputs": [
    {
     "name": "stderr",
     "output_type": "stream",
     "text": [
      "[2021-09-09 18:38:03,222] I T140699101365824 server.py:467: Started StockCache thread for bar \"1d\". \n",
      "\t\tNext data update will be in  26516.78s.\n",
      "[2021-09-09 18:38:03,275] I T140699109758528 server.py:449: Loaded \"Stock(\"SPY\", conid=756733)\" from StockCache's storage.\n",
      "[2021-09-09 18:38:03,330] I T140699092973120 server.py:449: Loaded \"Stock(\"XOM\", conid=13977)\" from StockCache's storage.\n",
      "[2021-09-09 18:38:03,362] I T140699084580416 server.py:449: Loaded \"Stock(\"MSFT\", conid=272093)\" from StockCache's storage.\n",
      "[2021-09-09 18:38:03,383] I T140699076187712 server.py:449: Loaded \"Stock(\"AAPL\", conid=265598)\" from StockCache's storage.\n",
      "[2021-09-09 18:38:03,403] I T140699067795008 server.py:449: Loaded \"Stock(\"TSLA\", conid=76792991)\" from StockCache's storage.\n",
      "[2021-09-09 18:38:03,721] I T140699109758528 server.py:623: Updated: Stock(\"SPY\", conid=756733) - bar: 1d - added period: 1y\n",
      "[2021-09-09 18:38:03,733] I T140699109758528 server.py:449: Loaded \"Stock(\"IBM\", conid=8314)\" from StockCache's storage.\n",
      "[2021-09-09 18:38:03,762] I T140699084580416 server.py:623: Updated: Stock(\"MSFT\", conid=272093) - bar: 1d - added period: 1y\n",
      "[2021-09-09 18:38:03,785] I T140699092973120 server.py:623: Updated: Stock(\"XOM\", conid=13977) - bar: 1d - added period: 1y\n",
      "[2021-09-09 18:38:03,790] I T140699084580416 server.py:449: Loaded \"Stock(\"AMZN\", conid=3691937)\" from StockCache's storage.\n",
      "[2021-09-09 18:38:03,810] I T140699092973120 server.py:449: Loaded \"Stock(\"GOOG\", conid=208813720)\" from StockCache's storage.\n",
      "[2021-09-09 18:38:03,842] I T140699076187712 server.py:623: Updated: Stock(\"AAPL\", conid=265598) - bar: 1d - added period: 1y\n",
      "[2021-09-09 18:38:03,857] I T140699076187712 server.py:449: Loaded \"Stock(\"FB\", conid=107113386)\" from StockCache's storage.\n",
      "[2021-09-09 18:38:04,004] I T140699067795008 server.py:623: Updated: Stock(\"TSLA\", conid=76792991) - bar: 1d - added period: 1y\n",
      "[2021-09-09 18:38:04,018] I T140699067795008 server.py:449: Loaded \"Stock(\"ADBE\", conid=265768)\" from StockCache's storage.\n",
      "[2021-09-09 18:38:04,160] I T140699109758528 server.py:623: Updated: Stock(\"IBM\", conid=8314) - bar: 1d - added period: 1y\n",
      "[2021-09-09 18:38:04,221] I T140699084580416 server.py:623: Updated: Stock(\"AMZN\", conid=3691937) - bar: 1d - added period: 1y\n",
      "[2021-09-09 18:38:04,345] I T140699092973120 server.py:623: Updated: Stock(\"GOOG\", conid=208813720) - bar: 1d - added period: 1y\n",
      "[2021-09-09 18:38:04,353] I T140699076187712 server.py:623: Updated: Stock(\"FB\", conid=107113386) - bar: 1d - added period: 1y\n",
      "[2021-09-09 18:38:04,411] I T140699067795008 server.py:623: Updated: Stock(\"ADBE\", conid=265768) - bar: 1d - added period: 1y\n"
     ]
    }
   ],
   "source": [
    "STOCKS = ['SPY', 'XOM', 'MSFT', 'AAPL', 'TSLA', 'IBM', 'AMZN', 'GOOG', 'FB', 'ADBE']\n",
    "# historical data in a 1 year period in 1 day intervals\n",
    "stocks = srv[STOCKS, '1y', '1d']\n",
    "\n",
    "# wealth of 100 USD\n",
    "portfolio = Portfolio(wealth=100, stocks=stocks)\n",
    "\n",
    "srv.add_portfolio(portfolio)"
   ]
  },
  {
   "cell_type": "markdown",
   "id": "e0e3665e-229c-4bd6-bda6-c52f7e50c978",
   "metadata": {},
   "source": [
    "## Experts\n",
    "\n",
    "Experts are sub-algorithms that provide a prediction to how the wealth of the portfolio should be allocated.\n",
    "\n",
    "We will use an expert that predicts the allocation that maximizes the sharpe ratio of the portfolio."
   ]
  },
  {
   "cell_type": "code",
   "execution_count": 6,
   "id": "b50ce1a0-950a-45eb-bea5-efb918a67d73",
   "metadata": {},
   "outputs": [
    {
     "name": "stderr",
     "output_type": "stream",
     "text": [
      "[2021-09-09 18:38:49,986] I T140700537546560 Sharpe.py:70: Starting Sharpe ratio optimizer for dates: 2020-09-11 13:30:00 -> 2021-09-09 18:38:49.978662\n"
     ]
    },
    {
     "name": "stdout",
     "output_type": "stream",
     "text": [
      "Predicting for date: 2021-09-10 18:38:49.978662\n",
      "Done: Stock(\"SPY\", conid=756733)\n",
      "Done: Stock(\"XOM\", conid=13977)\n",
      "Done: Stock(\"MSFT\", conid=272093)\n",
      "Done: Stock(\"AAPL\", conid=265598)\n",
      "Done: Stock(\"TSLA\", conid=76792991)\n",
      "Done: Stock(\"IBM\", conid=8314)\n",
      "Done: Stock(\"AMZN\", conid=3691937)\n",
      "Done: Stock(\"GOOG\", conid=208813720)\n"
     ]
    },
    {
     "name": "stderr",
     "output_type": "stream",
     "text": [
      "[2021-09-09 18:38:53,182] I T140700537546560 Sharpe.py:98: Retrieving stock values took 3.194s\n",
      "[2021-09-09 18:38:53,184] I T140700537546560 Sharpe.py:106: sharpe:  0.33 \n",
      "\t\tweights: [0.1, 0.1, 0.1, 0.1, 0.1, 0.1, 0.1, 0.1, 0.1, 0.1]\n",
      "[2021-09-09 18:38:53,186] I T140700537546560 Sharpe.py:106: sharpe:  0.33 \n",
      "\t\tweights: [0.1, 0.1, 0.1, 0.1, 0.1, 0.1, 0.1, 0.1, 0.1, 0.1]\n",
      "[2021-09-09 18:38:53,186] I T140700537546560 Sharpe.py:106: sharpe:  0.33 \n",
      "\t\tweights: [0.1, 0.1, 0.1, 0.1, 0.1, 0.1, 0.1, 0.1, 0.1, 0.1]\n",
      "[2021-09-09 18:38:53,187] I T140700537546560 Sharpe.py:106: sharpe:  0.33 \n",
      "\t\tweights: [0.1, 0.1, 0.1, 0.1, 0.1, 0.1, 0.1, 0.1, 0.1, 0.1]\n",
      "[2021-09-09 18:38:53,189] I T140700537546560 Sharpe.py:106: sharpe:  0.33 \n",
      "\t\tweights: [0.1, 0.1, 0.1, 0.1, 0.1, 0.1, 0.1, 0.1, 0.1, 0.1]\n",
      "[2021-09-09 18:38:53,190] I T140700537546560 Sharpe.py:106: sharpe:  0.33 \n",
      "\t\tweights: [0.1, 0.1, 0.1, 0.1, 0.1, 0.1, 0.1, 0.1, 0.1, 0.1]\n",
      "[2021-09-09 18:38:53,190] I T140700537546560 Sharpe.py:106: sharpe:  0.33 \n",
      "\t\tweights: [0.1, 0.1, 0.1, 0.1, 0.1, 0.1, 0.1, 0.1, 0.1, 0.1]\n",
      "[2021-09-09 18:38:53,192] I T140700537546560 Sharpe.py:106: sharpe:  0.33 \n",
      "\t\tweights: [0.1, 0.1, 0.1, 0.1, 0.1, 0.1, 0.1, 0.1, 0.1, 0.1]\n",
      "[2021-09-09 18:38:53,193] I T140700537546560 Sharpe.py:106: sharpe:  0.33 \n",
      "\t\tweights: [0.1, 0.1, 0.1, 0.1, 0.1, 0.1, 0.1, 0.1, 0.1, 0.1]\n",
      "[2021-09-09 18:38:53,195] I T140700537546560 Sharpe.py:106: sharpe:  0.33 \n",
      "\t\tweights: [0.1, 0.1, 0.1, 0.1, 0.1, 0.1, 0.1, 0.1, 0.1, 0.1]\n",
      "[2021-09-09 18:38:53,196] I T140700537546560 Sharpe.py:106: sharpe:  0.33 \n",
      "\t\tweights: [0.1, 0.1, 0.1, 0.1, 0.1, 0.1, 0.1, 0.1, 0.1, 0.1]\n",
      "[2021-09-09 18:38:53,198] I T140700537546560 Sharpe.py:106: sharpe:  2.24 \n",
      "\t\tweights: [1, 0, 3.6e-16, 2.5e-16, 0, 0, 0, 0, 0, 0]\n",
      "[2021-09-09 18:38:53,199] I T140700537546560 Sharpe.py:106: sharpe:  2.24 \n",
      "\t\tweights: [1, 0, 3.6e-16, 2.5e-16, 0, 0, 0, 0, 0, 0]\n",
      "[2021-09-09 18:38:53,200] I T140700537546560 Sharpe.py:106: sharpe:  2.24 \n",
      "\t\tweights: [1, 1.5e-08, 3.6e-16, 2.5e-16, 0, 0, 0, 0, 0, 0]\n",
      "[2021-09-09 18:38:53,201] I T140700537546560 Sharpe.py:106: sharpe:  2.24 \n",
      "\t\tweights: [1, 0, 1.5e-08, 2.5e-16, 0, 0, 0, 0, 0, 0]\n",
      "[2021-09-09 18:38:53,204] I T140700537546560 Sharpe.py:106: sharpe:  2.24 \n",
      "\t\tweights: [1, 0, 3.6e-16, 1.5e-08, 0, 0, 0, 0, 0, 0]\n",
      "[2021-09-09 18:38:53,205] I T140700537546560 Sharpe.py:106: sharpe:  2.24 \n",
      "\t\tweights: [1, 0, 3.6e-16, 2.5e-16, 1.5e-08, 0, 0, 0, 0, 0]\n",
      "[2021-09-09 18:38:53,206] I T140700537546560 Sharpe.py:106: sharpe:  2.24 \n",
      "\t\tweights: [1, 0, 3.6e-16, 2.5e-16, 0, 1.5e-08, 0, 0, 0, 0]\n",
      "[2021-09-09 18:38:53,208] I T140700537546560 Sharpe.py:106: sharpe:  2.24 \n",
      "\t\tweights: [1, 0, 3.6e-16, 2.5e-16, 0, 0, 1.5e-08, 0, 0, 0]\n",
      "[2021-09-09 18:38:53,210] I T140700537546560 Sharpe.py:106: sharpe:  2.24 \n",
      "\t\tweights: [1, 0, 3.6e-16, 2.5e-16, 0, 0, 0, 1.5e-08, 0, 0]\n",
      "[2021-09-09 18:38:53,212] I T140700537546560 Sharpe.py:106: sharpe:  2.24 \n",
      "\t\tweights: [1, 0, 3.6e-16, 2.5e-16, 0, 0, 0, 0, 1.5e-08, 0]\n",
      "[2021-09-09 18:38:53,214] I T140700537546560 Sharpe.py:106: sharpe:  2.24 \n",
      "\t\tweights: [1, 0, 3.6e-16, 2.5e-16, 0, 0, 0, 0, 0, 1.5e-08]\n",
      "[2021-09-09 18:38:53,218] I T140700537546560 Sharpe.py:106: sharpe:  2.25 \n",
      "\t\tweights: [0.95, 0, 0, 2.7e-16, 0, 0.049, 1e-16, 0, 0, 0]\n",
      "[2021-09-09 18:38:53,220] I T140700537546560 Sharpe.py:106: sharpe:  2.25 \n",
      "\t\tweights: [0.95, 0, 0, 2.7e-16, 0, 0.049, 1e-16, 0, 0, 0]\n",
      "[2021-09-09 18:38:53,221] I T140700537546560 Sharpe.py:106: sharpe:  2.25 \n",
      "\t\tweights: [0.95, 1.5e-08, 0, 2.7e-16, 0, 0.049, 1e-16, 0, 0, 0]\n",
      "[2021-09-09 18:38:53,222] I T140700537546560 Sharpe.py:106: sharpe:  2.25 \n",
      "\t\tweights: [0.95, 0, 1.5e-08, 2.7e-16, 0, 0.049, 1e-16, 0, 0, 0]\n",
      "[2021-09-09 18:38:53,250] I T140700537546560 Sharpe.py:106: sharpe:  2.25 \n",
      "\t\tweights: [0.95, 0, 0, 1.5e-08, 0, 0.049, 1e-16, 0, 0, 0]\n",
      "[2021-09-09 18:38:53,264] I T140700537546560 Sharpe.py:106: sharpe:  2.25 \n",
      "\t\tweights: [0.95, 0, 0, 2.7e-16, 1.5e-08, 0.049, 1e-16, 0, 0, 0]\n",
      "[2021-09-09 18:38:53,277] I T140700537546560 Sharpe.py:106: sharpe:  2.25 \n",
      "\t\tweights: [0.95, 0, 0, 2.7e-16, 0, 0.049, 1e-16, 0, 0, 0]\n",
      "[2021-09-09 18:38:53,279] I T140700537546560 Sharpe.py:106: sharpe:  2.25 \n",
      "\t\tweights: [0.95, 0, 0, 2.7e-16, 0, 0.049, 1.5e-08, 0, 0, 0]\n",
      "[2021-09-09 18:38:53,286] I T140700537546560 Sharpe.py:106: sharpe:  2.25 \n",
      "\t\tweights: [0.95, 0, 0, 2.7e-16, 0, 0.049, 1e-16, 1.5e-08, 0, 0]\n",
      "[2021-09-09 18:38:53,293] I T140700537546560 Sharpe.py:106: sharpe:  2.25 \n",
      "\t\tweights: [0.95, 0, 0, 2.7e-16, 0, 0.049, 1e-16, 0, 1.5e-08, 0]\n",
      "[2021-09-09 18:38:53,295] I T140700537546560 Sharpe.py:106: sharpe:  2.25 \n",
      "\t\tweights: [0.95, 0, 0, 2.7e-16, 0, 0.049, 1e-16, 0, 0, 1.5e-08]\n",
      "[2021-09-09 18:38:53,297] I T140700537546560 Sharpe.py:106: sharpe:  2.25 \n",
      "\t\tweights: [0.93, 1.2e-16, 1.8e-16, 0, 7.8e-17, 0.073, 1.7e-18, 0, 0, 0]\n",
      "[2021-09-09 18:38:53,300] I T140700537546560 Sharpe.py:106: sharpe:  2.25 \n",
      "\t\tweights: [0.93, 1.2e-16, 1.8e-16, 0, 7.8e-17, 0.073, 1.7e-18, 0, 0, 0]\n",
      "[2021-09-09 18:38:53,301] I T140700537546560 Sharpe.py:106: sharpe:  2.25 \n",
      "\t\tweights: [0.93, 1.5e-08, 1.8e-16, 0, 7.8e-17, 0.073, 1.7e-18, 0, 0, 0]\n",
      "[2021-09-09 18:38:53,302] I T140700537546560 Sharpe.py:106: sharpe:  2.25 \n",
      "\t\tweights: [0.93, 1.2e-16, 1.5e-08, 0, 7.8e-17, 0.073, 1.7e-18, 0, 0, 0]\n",
      "[2021-09-09 18:38:53,304] I T140700537546560 Sharpe.py:106: sharpe:  2.25 \n",
      "\t\tweights: [0.93, 1.2e-16, 1.8e-16, 1.5e-08, 7.8e-17, 0.073, 1.7e-18, 0, 0, 0]\n",
      "[2021-09-09 18:38:53,306] I T140700537546560 Sharpe.py:106: sharpe:  2.25 \n",
      "\t\tweights: [0.93, 1.2e-16, 1.8e-16, 0, 1.5e-08, 0.073, 1.7e-18, 0, 0, 0]\n",
      "[2021-09-09 18:38:53,307] I T140700537546560 Sharpe.py:106: sharpe:  2.25 \n",
      "\t\tweights: [0.93, 1.2e-16, 1.8e-16, 0, 7.8e-17, 0.073, 1.7e-18, 0, 0, 0]\n",
      "[2021-09-09 18:38:53,309] I T140700537546560 Sharpe.py:106: sharpe:  2.25 \n",
      "\t\tweights: [0.93, 1.2e-16, 1.8e-16, 0, 7.8e-17, 0.073, 1.5e-08, 0, 0, 0]\n",
      "[2021-09-09 18:38:53,310] I T140700537546560 Sharpe.py:106: sharpe:  2.25 \n",
      "\t\tweights: [0.93, 1.2e-16, 1.8e-16, 0, 7.8e-17, 0.073, 1.7e-18, 1.5e-08, 0, 0]\n",
      "[2021-09-09 18:38:53,312] I T140700537546560 Sharpe.py:106: sharpe:  2.25 \n",
      "\t\tweights: [0.93, 1.2e-16, 1.8e-16, 0, 7.8e-17, 0.073, 1.7e-18, 0, 1.5e-08, 0]\n",
      "[2021-09-09 18:38:53,313] I T140700537546560 Sharpe.py:106: sharpe:  2.25 \n",
      "\t\tweights: [0.93, 1.2e-16, 1.8e-16, 0, 7.8e-17, 0.073, 1.7e-18, 0, 0, 1.5e-08]\n",
      "[2021-09-09 18:38:53,315] I T140700537546560 Sharpe.py:106: sharpe:  2.25 \n",
      "\t\tweights: [0.93, 1.2e-16, 3.4e-17, 0, 1.1e-16, 0.068, 0, 0, 0, 0]\n",
      "[2021-09-09 18:38:53,317] I T140700537546560 Sharpe.py:106: sharpe:  2.25 \n",
      "\t\tweights: [0.93, 1.2e-16, 3.4e-17, 0, 1.1e-16, 0.068, 0, 0, 0, 0]\n",
      "[2021-09-09 18:38:53,319] I T140700537546560 Sharpe.py:106: sharpe:  2.25 \n",
      "\t\tweights: [0.93, 1.5e-08, 3.4e-17, 0, 1.1e-16, 0.068, 0, 0, 0, 0]\n",
      "[2021-09-09 18:38:53,320] I T140700537546560 Sharpe.py:106: sharpe:  2.25 \n",
      "\t\tweights: [0.93, 1.2e-16, 1.5e-08, 0, 1.1e-16, 0.068, 0, 0, 0, 0]\n",
      "[2021-09-09 18:38:53,320] I T140700537546560 Sharpe.py:106: sharpe:  2.25 \n",
      "\t\tweights: [0.93, 1.2e-16, 3.4e-17, 1.5e-08, 1.1e-16, 0.068, 0, 0, 0, 0]\n",
      "[2021-09-09 18:38:53,322] I T140700537546560 Sharpe.py:106: sharpe:  2.25 \n",
      "\t\tweights: [0.93, 1.2e-16, 3.4e-17, 0, 1.5e-08, 0.068, 0, 0, 0, 0]\n",
      "[2021-09-09 18:38:53,323] I T140700537546560 Sharpe.py:106: sharpe:  2.25 \n",
      "\t\tweights: [0.93, 1.2e-16, 3.4e-17, 0, 1.1e-16, 0.068, 0, 0, 0, 0]\n",
      "[2021-09-09 18:38:53,344] I T140700537546560 Sharpe.py:106: sharpe:  2.25 \n",
      "\t\tweights: [0.93, 1.2e-16, 3.4e-17, 0, 1.1e-16, 0.068, 1.5e-08, 0, 0, 0]\n",
      "[2021-09-09 18:38:53,346] I T140700537546560 Sharpe.py:106: sharpe:  2.25 \n",
      "\t\tweights: [0.93, 1.2e-16, 3.4e-17, 0, 1.1e-16, 0.068, 0, 1.5e-08, 0, 0]\n",
      "[2021-09-09 18:38:53,347] I T140700537546560 Sharpe.py:106: sharpe:  2.25 \n",
      "\t\tweights: [0.93, 1.2e-16, 3.4e-17, 0, 1.1e-16, 0.068, 0, 0, 1.5e-08, 0]\n",
      "[2021-09-09 18:38:53,348] I T140700537546560 Sharpe.py:106: sharpe:  2.25 \n",
      "\t\tweights: [0.93, 1.2e-16, 3.4e-17, 0, 1.1e-16, 0.068, 0, 0, 0, 1.5e-08]\n",
      "[2021-09-09 18:38:53,350] I T140700537546560 Sharpe.py:110: Finished Sharpe ratio optimizer\n"
     ]
    },
    {
     "name": "stdout",
     "output_type": "stream",
     "text": [
      "Done: Stock(\"FB\", conid=107113386)\n"
     ]
    }
   ],
   "source": [
    "from modules import experts\n",
    "\n",
    "# some experts may need initialisation\n",
    "experts.Sharpe.init()\n",
    "\n",
    "# predict for tomorrow\n",
    "date = pd.Timestamp.today() + pd.Timedelta(days=1)\n",
    "print('Predicting for date:', date)\n",
    "\n",
    "weights = experts.Sharpe.predict(pf=portfolio, date=date, srv=srv)"
   ]
  }
 ],
 "metadata": {
  "kernelspec": {
   "display_name": "Python 3",
   "language": "python",
   "name": "python3"
  },
  "language_info": {
   "codemirror_mode": {
    "name": "ipython",
    "version": 3
   },
   "file_extension": ".py",
   "mimetype": "text/x-python",
   "name": "python",
   "nbconvert_exporter": "python",
   "pygments_lexer": "ipython3",
   "version": "3.9.3"
  }
 },
 "nbformat": 4,
 "nbformat_minor": 5
}
